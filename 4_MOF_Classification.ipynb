{
 "cells": [
  {
   "cell_type": "code",
   "execution_count": 74,
   "id": "2e686b9b",
   "metadata": {},
   "outputs": [],
   "source": [
    "import pandas as pd"
   ]
  },
  {
   "cell_type": "code",
   "execution_count": 75,
   "id": "d23e4559",
   "metadata": {},
   "outputs": [
    {
     "data": {
      "text/html": [
       "<div>\n",
       "<style scoped>\n",
       "    .dataframe tbody tr th:only-of-type {\n",
       "        vertical-align: middle;\n",
       "    }\n",
       "\n",
       "    .dataframe tbody tr th {\n",
       "        vertical-align: top;\n",
       "    }\n",
       "\n",
       "    .dataframe thead th {\n",
       "        text-align: right;\n",
       "    }\n",
       "</style>\n",
       "<table border=\"1\" class=\"dataframe\">\n",
       "  <thead>\n",
       "    <tr style=\"text-align: right;\">\n",
       "      <th></th>\n",
       "      <th>pld</th>\n",
       "      <th>surface_area_m2g</th>\n",
       "      <th>label</th>\n",
       "    </tr>\n",
       "  </thead>\n",
       "  <tbody>\n",
       "    <tr>\n",
       "      <th>0</th>\n",
       "      <td>2.93515</td>\n",
       "      <td>18.4268</td>\n",
       "      <td>0</td>\n",
       "    </tr>\n",
       "    <tr>\n",
       "      <th>1</th>\n",
       "      <td>3.21360</td>\n",
       "      <td>613.2570</td>\n",
       "      <td>1</td>\n",
       "    </tr>\n",
       "    <tr>\n",
       "      <th>2</th>\n",
       "      <td>3.98810</td>\n",
       "      <td>258.3630</td>\n",
       "      <td>0</td>\n",
       "    </tr>\n",
       "    <tr>\n",
       "      <th>3</th>\n",
       "      <td>6.93817</td>\n",
       "      <td>365.9500</td>\n",
       "      <td>0</td>\n",
       "    </tr>\n",
       "    <tr>\n",
       "      <th>4</th>\n",
       "      <td>1.91197</td>\n",
       "      <td>247.3670</td>\n",
       "      <td>1</td>\n",
       "    </tr>\n",
       "    <tr>\n",
       "      <th>...</th>\n",
       "      <td>...</td>\n",
       "      <td>...</td>\n",
       "      <td>...</td>\n",
       "    </tr>\n",
       "    <tr>\n",
       "      <th>193</th>\n",
       "      <td>5.32598</td>\n",
       "      <td>241.8870</td>\n",
       "      <td>0</td>\n",
       "    </tr>\n",
       "    <tr>\n",
       "      <th>194</th>\n",
       "      <td>10.73000</td>\n",
       "      <td>602.5550</td>\n",
       "      <td>0</td>\n",
       "    </tr>\n",
       "    <tr>\n",
       "      <th>195</th>\n",
       "      <td>2.52259</td>\n",
       "      <td>25.6035</td>\n",
       "      <td>0</td>\n",
       "    </tr>\n",
       "    <tr>\n",
       "      <th>196</th>\n",
       "      <td>2.49261</td>\n",
       "      <td>11.6380</td>\n",
       "      <td>0</td>\n",
       "    </tr>\n",
       "    <tr>\n",
       "      <th>197</th>\n",
       "      <td>2.87997</td>\n",
       "      <td>184.7530</td>\n",
       "      <td>0</td>\n",
       "    </tr>\n",
       "  </tbody>\n",
       "</table>\n",
       "<p>198 rows × 3 columns</p>\n",
       "</div>"
      ],
      "text/plain": [
       "          pld  surface_area_m2g  label\n",
       "0     2.93515           18.4268      0\n",
       "1     3.21360          613.2570      1\n",
       "2     3.98810          258.3630      0\n",
       "3     6.93817          365.9500      0\n",
       "4     1.91197          247.3670      1\n",
       "..        ...               ...    ...\n",
       "193   5.32598          241.8870      0\n",
       "194  10.73000          602.5550      0\n",
       "195   2.52259           25.6035      0\n",
       "196   2.49261           11.6380      0\n",
       "197   2.87997          184.7530      0\n",
       "\n",
       "[198 rows x 3 columns]"
      ]
     },
     "execution_count": 75,
     "metadata": {},
     "output_type": "execute_result"
    }
   ],
   "source": [
    "df = pd.read_csv('mof.csv')\n",
    "df"
   ]
  },
  {
   "cell_type": "code",
   "execution_count": 76,
   "id": "6d2e1f20",
   "metadata": {},
   "outputs": [],
   "source": [
    "import numpy as np"
   ]
  },
  {
   "cell_type": "code",
   "execution_count": 77,
   "id": "738deff5",
   "metadata": {},
   "outputs": [
    {
     "data": {
      "text/plain": [
       "(0.86536, 11.4623)"
      ]
     },
     "execution_count": 77,
     "metadata": {},
     "output_type": "execute_result"
    }
   ],
   "source": [
    "np.min(df['pld']), np.max(df['pld'])"
   ]
  },
  {
   "cell_type": "code",
   "execution_count": 78,
   "id": "6e082609",
   "metadata": {},
   "outputs": [
    {
     "data": {
      "text/plain": [
       "(0.969831, 2198.28)"
      ]
     },
     "execution_count": 78,
     "metadata": {},
     "output_type": "execute_result"
    }
   ],
   "source": [
    "np.min(df['surface_area_m2g']), np.max(df['surface_area_m2g'])"
   ]
  },
  {
   "cell_type": "code",
   "execution_count": 79,
   "id": "bd380a92",
   "metadata": {},
   "outputs": [],
   "source": [
    "x0 = df['pld']\n",
    "x1 = df['surface_area_m2g']"
   ]
  },
  {
   "cell_type": "code",
   "execution_count": 80,
   "id": "84674163",
   "metadata": {},
   "outputs": [
    {
     "data": {
      "image/png": "[encoded data removed]",
      "text/plain": [
       "<Figure size 360x360 with 1 Axes>"
      ]
     },
     "metadata": {
      "needs_background": "light"
     },
     "output_type": "display_data"
    }
   ],
   "source": [
    "import matplotlib.pyplot as plt\n",
    "\n",
    "plt.figure(figsize = (5, 5))\n",
    "plt.scatter(x0, x1, c = df['label'], cmap = 'bwr', s = 20)\n",
    "plt.show()"
   ]
  },
  {
   "cell_type": "code",
   "execution_count": 81,
   "id": "cb456f29",
   "metadata": {},
   "outputs": [],
   "source": [
    "X = df[['pld', 'surface_area_m2g']].values\n",
    "y = df['label']"
   ]
  },
  {
   "cell_type": "code",
   "execution_count": 82,
   "id": "fa2e35db",
   "metadata": {},
   "outputs": [],
   "source": [
    "from sklearn.neighbors import KNeighborsClassifier"
   ]
  },
  {
   "cell_type": "code",
   "execution_count": 83,
   "id": "b2893fb8",
   "metadata": {},
   "outputs": [
    {
     "data": {
      "text/html": [
       "<style>#sk-container-id-4 {color: black;background-color: white;}#sk-container-id-4 pre{padding: 0;}#sk-container-id-4 div.sk-toggleable {background-color: white;}#sk-container-id-4 label.sk-toggleable__label {cursor: pointer;display: block;width: 100%;margin-bottom: 0;padding: 0.3em;box-sizing: border-box;text-align: center;}#sk-container-id-4 label.sk-toggleable__label-arrow:before {content: \"▸\";float: left;margin-right: 0.25em;color: #696969;}#sk-container-id-4 label.sk-toggleable__label-arrow:hover:before {color: black;}#sk-container-id-4 div.sk-estimator:hover label.sk-toggleable__label-arrow:before {color: black;}#sk-container-id-4 div.sk-toggleable__content {max-height: 0;max-width: 0;overflow: hidden;text-align: left;background-color: #f0f8ff;}#sk-container-id-4 div.sk-toggleable__content pre {margin: 0.2em;color: black;border-radius: 0.25em;background-color: #f0f8ff;}#sk-container-id-4 input.sk-toggleable__control:checked~div.sk-toggleable__content {max-height: 200px;max-width: 100%;overflow: auto;}#sk-container-id-4 input.sk-toggleable__control:checked~label.sk-toggleable__label-arrow:before {content: \"▾\";}#sk-container-id-4 div.sk-estimator input.sk-toggleable__control:checked~label.sk-toggleable__label {background-color: #d4ebff;}#sk-container-id-4 div.sk-label input.sk-toggleable__control:checked~label.sk-toggleable__label {background-color: #d4ebff;}#sk-container-id-4 input.sk-hidden--visually {border: 0;clip: rect(1px 1px 1px 1px);clip: rect(1px, 1px, 1px, 1px);height: 1px;margin: -1px;overflow: hidden;padding: 0;position: absolute;width: 1px;}#sk-container-id-4 div.sk-estimator {font-family: monospace;background-color: #f0f8ff;border: 1px dotted black;border-radius: 0.25em;box-sizing: border-box;margin-bottom: 0.5em;}#sk-container-id-4 div.sk-estimator:hover {background-color: #d4ebff;}#sk-container-id-4 div.sk-parallel-item::after {content: \"\";width: 100%;border-bottom: 1px solid gray;flex-grow: 1;}#sk-container-id-4 div.sk-label:hover label.sk-toggleable__label {background-color: #d4ebff;}#sk-container-id-4 div.sk-serial::before {content: \"\";position: absolute;border-left: 1px solid gray;box-sizing: border-box;top: 0;bottom: 0;left: 50%;z-index: 0;}#sk-container-id-4 div.sk-serial {display: flex;flex-direction: column;align-items: center;background-color: white;padding-right: 0.2em;padding-left: 0.2em;position: relative;}#sk-container-id-4 div.sk-item {position: relative;z-index: 1;}#sk-container-id-4 div.sk-parallel {display: flex;align-items: stretch;justify-content: center;background-color: white;position: relative;}#sk-container-id-4 div.sk-item::before, #sk-container-id-4 div.sk-parallel-item::before {content: \"\";position: absolute;border-left: 1px solid gray;box-sizing: border-box;top: 0;bottom: 0;left: 50%;z-index: -1;}#sk-container-id-4 div.sk-parallel-item {display: flex;flex-direction: column;z-index: 1;position: relative;background-color: white;}#sk-container-id-4 div.sk-parallel-item:first-child::after {align-self: flex-end;width: 50%;}#sk-container-id-4 div.sk-parallel-item:last-child::after {align-self: flex-start;width: 50%;}#sk-container-id-4 div.sk-parallel-item:only-child::after {width: 0;}#sk-container-id-4 div.sk-dashed-wrapped {border: 1px dashed gray;margin: 0 0.4em 0.5em 0.4em;box-sizing: border-box;padding-bottom: 0.4em;background-color: white;}#sk-container-id-4 div.sk-label label {font-family: monospace;font-weight: bold;display: inline-block;line-height: 1.2em;}#sk-container-id-4 div.sk-label-container {text-align: center;}#sk-container-id-4 div.sk-container {/* jupyter's `normalize.less` sets `[hidden] { display: none; }` but bootstrap.min.css set `[hidden] { display: none !important; }` so we also need the `!important` here to be able to override the default hidden behavior on the sphinx rendered scikit-learn.org. See: https://github.com/scikit-learn/scikit-learn/issues/21755 */display: inline-block !important;position: relative;}#sk-container-id-4 div.sk-text-repr-fallback {display: none;}</style><div id=\"sk-container-id-4\" class=\"sk-top-container\"><div class=\"sk-text-repr-fallback\"><pre>KNeighborsClassifier()</pre><b>In a Jupyter environment, please rerun this cell to show the HTML representation or trust the notebook. <br />On GitHub, the HTML representation is unable to render, please try loading this page with nbviewer.org.</b></div><div class=\"sk-container\" hidden><div class=\"sk-item\"><div class=\"sk-estimator sk-toggleable\"><input class=\"sk-toggleable__control sk-hidden--visually\" id=\"sk-estimator-id-4\" type=\"checkbox\" checked><label for=\"sk-estimator-id-4\" class=\"sk-toggleable__label sk-toggleable__label-arrow\">KNeighborsClassifier</label><div class=\"sk-toggleable__content\"><pre>KNeighborsClassifier()</pre></div></div></div></div></div>"
      ],
      "text/plain": [
       "KNeighborsClassifier()"
      ]
     },
     "execution_count": 83,
     "metadata": {},
     "output_type": "execute_result"
    }
   ],
   "source": [
    "clf_knn = KNeighborsClassifier()\n",
    "clf_knn.fit(X, y)"
   ]
  },
  {
   "cell_type": "code",
   "execution_count": 84,
   "id": "c0604d59",
   "metadata": {},
   "outputs": [],
   "source": [
    "xx, yy = np.meshgrid(np.arange(0.0, 12.0, 0.1), np.arange(-100, 2300, 1))\n",
    "coords = np.stack((xx.reshape(-1), yy.reshape(-1)), axis = 1)"
   ]
  },
  {
   "cell_type": "code",
   "execution_count": 85,
   "id": "db8cb8c7",
   "metadata": {},
   "outputs": [],
   "source": [
    "Z = clf_knn.predict(coords)\n",
    "Z = Z.reshape(xx.shape)"
   ]
  },
  {
   "cell_type": "code",
   "execution_count": 86,
   "id": "ca443d1f",
   "metadata": {},
   "outputs": [],
   "source": [
    "from matplotlib.colors import ListedColormap\n",
    "\n",
    "def plot_res(x0, x1, xx, yy, Z):\n",
    "    light_rgb = ListedColormap(['#AAAAFF', '#FFAAAA'])\n",
    "    plt.figure(figsize = (5, 5))\n",
    "    plt.pcolormesh(xx, yy, Z, shading='auto', cmap = light_rgb)\n",
    "    plt.scatter(x0,x1,c = df['label'], cmap = 'bwr', s=20)\n",
    "    plt.show()"
   ]
  },
  {
   "cell_type": "code",
   "execution_count": 87,
   "id": "1d92fe9e",
   "metadata": {},
   "outputs": [
    {
     "data": {
      "image/png": "[encoded data removed]",
      "text/plain": [
       "<Figure size 360x360 with 1 Axes>"
      ]
     },
     "metadata": {
      "needs_background": "light"
     },
     "output_type": "display_data"
    }
   ],
   "source": [
    "plot_res(x0, x1, xx, yy, Z)"
   ]
  },
  {
   "cell_type": "markdown",
   "id": "603ec9ad",
   "metadata": {},
   "source": [
    "# 标准化处理"
   ]
  },
  {
   "cell_type": "code",
   "execution_count": 88,
   "id": "25ddd57b",
   "metadata": {},
   "outputs": [],
   "source": [
    "from sklearn.preprocessing import StandardScaler #特征缩放，归一化处理"
   ]
  },
  {
   "cell_type": "code",
   "execution_count": 89,
   "id": "0a94355d",
   "metadata": {},
   "outputs": [
    {
     "data": {
      "text/plain": [
       "array([[0],\n",
       "       [1],\n",
       "       [2],\n",
       "       [3]])"
      ]
     },
     "execution_count": 89,
     "metadata": {},
     "output_type": "execute_result"
    }
   ],
   "source": [
    "scaler0 = StandardScaler()\n",
    "x_test = np.arange(4).reshape(-1, 1)\n",
    "x_test"
   ]
  },
  {
   "cell_type": "code",
   "execution_count": 90,
   "id": "a46b1b27",
   "metadata": {},
   "outputs": [
    {
     "data": {
      "text/plain": [
       "array([[-1.34164079],\n",
       "       [-0.4472136 ],\n",
       "       [ 0.4472136 ],\n",
       "       [ 1.34164079]])"
      ]
     },
     "execution_count": 90,
     "metadata": {},
     "output_type": "execute_result"
    }
   ],
   "source": [
    "scaler0.fit(x_test)\n",
    "x_test = scaler0.transform(x_test)\n",
    "x_test"
   ]
  },
  {
   "cell_type": "code",
   "execution_count": 91,
   "id": "8115f188",
   "metadata": {},
   "outputs": [],
   "source": [
    "scaler = StandardScaler()"
   ]
  },
  {
   "cell_type": "code",
   "execution_count": 92,
   "id": "c6b5991b",
   "metadata": {},
   "outputs": [
    {
     "data": {
      "text/plain": [
       "array([[-0.74015999, -1.41082006],\n",
       "       [-0.58495847,  0.66012709],\n",
       "       [-0.15327027, -0.5754637 ],\n",
       "       [ 1.4910298 , -0.20089128],\n",
       "       [-1.31045661, -0.61374712],\n",
       "       [ 1.3954843 ,  0.05797442],\n",
       "       [-0.78501766, -0.82836546],\n",
       "       [ 0.08271742, -0.64839578],\n",
       "       [ 1.16405595,  0.92574705],\n",
       "       [ 0.61902522,  0.89156144],\n",
       "       [-0.67493578,  0.44230223],\n",
       "       [-0.79701798,  0.3168436 ],\n",
       "       [-0.64444728,  0.48676545],\n",
       "       [ 0.5505292 ,  1.11139518],\n",
       "       [-0.70205215, -1.2757582 ],\n",
       "       [-1.66327044,  0.31594535],\n",
       "       [-0.27088789, -1.02386993],\n",
       "       [-0.43887563, -0.90433695],\n",
       "       [ 0.32689855, -0.91841645],\n",
       "       [ 1.07452454,  0.44290106],\n",
       "       [-0.62054139, -0.97074455],\n",
       "       [-0.78355734, -1.34216371],\n",
       "       [-0.75786785,  0.10409487],\n",
       "       [-0.68715347, -1.21835709],\n",
       "       [-0.40609073, -0.13786429],\n",
       "       [ 0.69640581,  1.458397  ],\n",
       "       [ 0.89657091,  1.43391803],\n",
       "       [-0.13522799, -0.47101639],\n",
       "       [ 1.09186453,  0.86440862],\n",
       "       [ 0.01829583,  1.7512394 ],\n",
       "       [ 0.62539603,  0.77463616],\n",
       "       [-1.08257875, -1.02589273],\n",
       "       [-0.59270043, -1.22848674],\n",
       "       [-1.07474203, -1.34666574],\n",
       "       [-0.81240715, -0.83418317],\n",
       "       [ 1.30630404, -0.03150211],\n",
       "       [-1.03968304, -1.06078509],\n",
       "       [-0.50439525, -0.48227233],\n",
       "       [ 0.38271982,  1.06804606],\n",
       "       [ 0.23355469,  0.65359914],\n",
       "       [-0.39772451, -0.76815158],\n",
       "       [-0.70686231, -0.60888684],\n",
       "       [ 1.26532014,  1.08725392],\n",
       "       [-0.6934574 , -1.25887569],\n",
       "       [-1.27816221, -0.73127124],\n",
       "       [ 1.75860403,  0.07654863],\n",
       "       [-0.74852621,  0.22080082],\n",
       "       [-0.81091895, -0.76184993],\n",
       "       [-1.00029324, -0.43202621],\n",
       "       [ 1.37131645,  1.74411262],\n",
       "       [ 1.05080259, -0.19098619],\n",
       "       [-0.6985351 , -0.88520568],\n",
       "       [-0.81661534,  0.23208112],\n",
       "       [-0.69404822, -0.65897629],\n",
       "       [-0.82547206, -0.91897002],\n",
       "       [ 2.46429301,  0.41053284],\n",
       "       [ 0.05428007,  0.12550657],\n",
       "       [-0.51527524,  0.03490201],\n",
       "       [ 0.68207566,  0.20091753],\n",
       "       [-1.34229396, -0.49829455],\n",
       "       [ 1.36570367,  1.97585335],\n",
       "       [-0.12235816, -0.25641547],\n",
       "       [-1.22279799, -0.23277904],\n",
       "       [-0.87585333, -1.07654271],\n",
       "       [-1.28966646, -0.49674176],\n",
       "       [ 1.22182804,  0.07160131],\n",
       "       [ 0.30247431, -0.45525877],\n",
       "       [-0.92769493, -1.40406685],\n",
       "       [-0.69410396, -0.60457665],\n",
       "       [ 1.38235251,  0.35848674],\n",
       "       [ 0.82859325,  0.39900533],\n",
       "       [ 0.41111816,  0.77380406],\n",
       "       [-0.59756633, -0.31906993],\n",
       "       [-0.68141249, -0.45236558],\n",
       "       [ 0.29755824,  0.05966299],\n",
       "       [-0.68985118,  0.6396206 ],\n",
       "       [ 4.01267413,  1.5193803 ],\n",
       "       [ 2.4862425 ,  2.26333412],\n",
       "       [ 0.79711262,  1.59092671],\n",
       "       [-0.38195633,  0.48257711],\n",
       "       [ 0.78535755,  0.42650283],\n",
       "       [ 0.11589248, -0.11181513],\n",
       "       [ 0.12960394, -0.03994493],\n",
       "       [ 3.94969058,  2.16818262],\n",
       "       [-0.52725327, -1.20485101],\n",
       "       [ 0.56405116,  1.09216295],\n",
       "       [ 0.97527806,  1.63502088],\n",
       "       [ 1.18383725,  1.28099672],\n",
       "       [ 0.7560897 ,  0.48824512],\n",
       "       [-1.47894042, -1.42601436],\n",
       "       [-0.78277143, -1.22646081],\n",
       "       [-0.28185706, -1.13957109],\n",
       "       [ 0.08649086,  3.60109528],\n",
       "       [-0.63918564, -0.51716121],\n",
       "       [-1.27823467, -0.91221576],\n",
       "       [-0.47637593,  0.63423809],\n",
       "       [-0.46535102, -0.48001975],\n",
       "       [-0.75590031,  0.19578917],\n",
       "       [-1.4086385 , -0.71915535],\n",
       "       [-1.30512809, -0.4380006 ],\n",
       "       [-0.63068565, -1.34591546],\n",
       "       [-0.38044026,  1.26903054],\n",
       "       [ 1.43773345, -0.32591122],\n",
       "       [ 1.44005771,  0.04120366],\n",
       "       [-1.56423576, -0.35521566],\n",
       "       [ 1.44200296, -0.40316394],\n",
       "       [ 1.11586517,  1.0365935 ],\n",
       "       [ 0.15717737,  0.10581129],\n",
       "       [-1.70387533, -0.7291997 ],\n",
       "       [-0.38645436, -0.68486182],\n",
       "       [-0.11541882, -0.38829064],\n",
       "       [ 0.26509106, -0.24591155],\n",
       "       [ 0.85726471, -0.05457452],\n",
       "       [ 1.46146655, -0.05142369],\n",
       "       [ 0.37655523, -0.75689564],\n",
       "       [ 0.93594399,  0.74341338],\n",
       "       [-1.56099741, -0.27357616],\n",
       "       [-0.48183822, -0.88192952],\n",
       "       [-1.27606647, -0.39964406],\n",
       "       [ 0.10320659, -0.58131623],\n",
       "       [ 0.43759912, -0.41956216],\n",
       "       [-0.45720774, -0.60694064],\n",
       "       [ 0.00867551,  0.21611809],\n",
       "       [-0.2925977 , -1.21565574],\n",
       "       [ 0.09916003,  0.52473204],\n",
       "       [-1.44972831, -0.47613083],\n",
       "       [-0.73561737,  0.75354477],\n",
       "       [ 0.15407835,  1.72598753],\n",
       "       [ 0.95073677,  0.22590133],\n",
       "       [ 0.5546092 ,  0.39602859],\n",
       "       [ 0.7618474 , -0.40798592],\n",
       "       [ 0.53328954,  1.07874147],\n",
       "       [-0.62819975, -0.59031959],\n",
       "       [-0.46278151, -0.42382361],\n",
       "       [-0.38908517, -0.95003613],\n",
       "       [-0.66707119, -0.82667689],\n",
       "       [-0.34011964, -1.08554607],\n",
       "       [ 0.93761612,  1.21190831],\n",
       "       [-0.01954447, -1.08216894],\n",
       "       [-0.30378425,  0.26131941],\n",
       "       [-0.46430315,  0.81657176],\n",
       "       [-0.450653  , -1.46897166],\n",
       "       [-0.63545122, -1.38943517],\n",
       "       [-0.50850312, -0.23240651],\n",
       "       [-0.42122908,  0.4006939 ],\n",
       "       [-0.93204247, -1.47159784],\n",
       "       [ 0.78507329,  6.17850674],\n",
       "       [ 0.72414645, -0.43753058],\n",
       "       [ 1.05867833,  2.05496174],\n",
       "       [-0.37619863,  0.78562054],\n",
       "       [-0.91136937, -0.3720456 ],\n",
       "       [-0.44101595,  0.7164033 ],\n",
       "       [ 1.31872239,  1.31531811],\n",
       "       [-0.61317845, -1.08599519],\n",
       "       [ 1.3168942 ,  1.69451755],\n",
       "       [ 1.35686925,  1.61167691],\n",
       "       [ 0.22073502,  0.62134581],\n",
       "       [ 0.72732907,  0.04543378],\n",
       "       [ 0.24431763,  0.15758234],\n",
       "       [ 0.26797827, -0.09150361],\n",
       "       [ 1.14569597,  0.34076203],\n",
       "       [ 1.00554919,  0.30277455],\n",
       "       [ 1.147474  ,  0.83458195],\n",
       "       [ 0.57194361,  0.57796188],\n",
       "       [ 0.36393065,  0.10290417],\n",
       "       [-1.55570233, -0.15221535],\n",
       "       [-0.64270269, -0.9592066 ],\n",
       "       [-1.31562907, -0.40798592],\n",
       "       [-0.27192461, -0.13246088],\n",
       "       [-0.35510749, -1.21835709],\n",
       "       [ 0.7348648 ,  0.3225325 ],\n",
       "       [ 0.57146427,  0.14383707],\n",
       "       [ 0.30036742,  0.37706095],\n",
       "       [ 0.01763255,  0.22755507],\n",
       "       [ 0.66433994, -0.28015982],\n",
       "       [-0.44702447,  0.10693584],\n",
       "       [-0.02034709,  0.25183559],\n",
       "       [-1.65127012, -0.61250768],\n",
       "       [-0.12103718, -0.50253163],\n",
       "       [ 0.14601869,  0.20451748],\n",
       "       [-0.67388234, -0.56195866],\n",
       "       [-1.41808046, -0.77438709],\n",
       "       [ 0.11819444, -0.58581791],\n",
       "       [-0.45259824,  1.28928984],\n",
       "       [ 0.27827301,  0.07176495],\n",
       "       [-0.62532926, -1.12831585],\n",
       "       [-0.55479325,  0.59822117],\n",
       "       [-0.37695108, -0.77040416],\n",
       "       [ 0.86200241,  0.84839337],\n",
       "       [-1.89381256, -1.00225978],\n",
       "       [ 0.77420444,  0.67925836],\n",
       "       [ 1.50220521,  1.20706543],\n",
       "       [ 0.6712737 ,  0.61397879],\n",
       "       [ 0.59243278, -0.63282616],\n",
       "       [ 3.60450723,  0.62286726],\n",
       "       [-0.97011129, -1.38583383],\n",
       "       [-0.98682144, -1.43445579],\n",
       "       [-0.77091603, -0.83174259]])"
      ]
     },
     "execution_count": 92,
     "metadata": {},
     "output_type": "execute_result"
    }
   ],
   "source": [
    "X_scaler = scaler.fit_transform(X) #x的两列相差太大，将x的均值化为0，方差为1\n",
    "X_scaler"
   ]
  },
  {
   "cell_type": "code",
   "execution_count": 93,
   "id": "7f7787bb",
   "metadata": {},
   "outputs": [
    {
     "data": {
      "image/png": "[encoded data removed]",
      "text/plain": [
       "<Figure size 360x360 with 1 Axes>"
      ]
     },
     "metadata": {
      "needs_background": "light"
     },
     "output_type": "display_data"
    }
   ],
   "source": [
    "plt.figure(figsize = (5, 5))\n",
    "plt.scatter(X_scaler[:,0], X_scaler[:,1], c = df['label'], cmap = 'bwr', s = 20)\n",
    "plt.show()"
   ]
  },
  {
   "cell_type": "code",
   "execution_count": 94,
   "id": "5d7c9651",
   "metadata": {},
   "outputs": [
    {
     "data": {
      "text/html": [
       "<style>#sk-container-id-5 {color: black;background-color: white;}#sk-container-id-5 pre{padding: 0;}#sk-container-id-5 div.sk-toggleable {background-color: white;}#sk-container-id-5 label.sk-toggleable__label {cursor: pointer;display: block;width: 100%;margin-bottom: 0;padding: 0.3em;box-sizing: border-box;text-align: center;}#sk-container-id-5 label.sk-toggleable__label-arrow:before {content: \"▸\";float: left;margin-right: 0.25em;color: #696969;}#sk-container-id-5 label.sk-toggleable__label-arrow:hover:before {color: black;}#sk-container-id-5 div.sk-estimator:hover label.sk-toggleable__label-arrow:before {color: black;}#sk-container-id-5 div.sk-toggleable__content {max-height: 0;max-width: 0;overflow: hidden;text-align: left;background-color: #f0f8ff;}#sk-container-id-5 div.sk-toggleable__content pre {margin: 0.2em;color: black;border-radius: 0.25em;background-color: #f0f8ff;}#sk-container-id-5 input.sk-toggleable__control:checked~div.sk-toggleable__content {max-height: 200px;max-width: 100%;overflow: auto;}#sk-container-id-5 input.sk-toggleable__control:checked~label.sk-toggleable__label-arrow:before {content: \"▾\";}#sk-container-id-5 div.sk-estimator input.sk-toggleable__control:checked~label.sk-toggleable__label {background-color: #d4ebff;}#sk-container-id-5 div.sk-label input.sk-toggleable__control:checked~label.sk-toggleable__label {background-color: #d4ebff;}#sk-container-id-5 input.sk-hidden--visually {border: 0;clip: rect(1px 1px 1px 1px);clip: rect(1px, 1px, 1px, 1px);height: 1px;margin: -1px;overflow: hidden;padding: 0;position: absolute;width: 1px;}#sk-container-id-5 div.sk-estimator {font-family: monospace;background-color: #f0f8ff;border: 1px dotted black;border-radius: 0.25em;box-sizing: border-box;margin-bottom: 0.5em;}#sk-container-id-5 div.sk-estimator:hover {background-color: #d4ebff;}#sk-container-id-5 div.sk-parallel-item::after {content: \"\";width: 100%;border-bottom: 1px solid gray;flex-grow: 1;}#sk-container-id-5 div.sk-label:hover label.sk-toggleable__label {background-color: #d4ebff;}#sk-container-id-5 div.sk-serial::before {content: \"\";position: absolute;border-left: 1px solid gray;box-sizing: border-box;top: 0;bottom: 0;left: 50%;z-index: 0;}#sk-container-id-5 div.sk-serial {display: flex;flex-direction: column;align-items: center;background-color: white;padding-right: 0.2em;padding-left: 0.2em;position: relative;}#sk-container-id-5 div.sk-item {position: relative;z-index: 1;}#sk-container-id-5 div.sk-parallel {display: flex;align-items: stretch;justify-content: center;background-color: white;position: relative;}#sk-container-id-5 div.sk-item::before, #sk-container-id-5 div.sk-parallel-item::before {content: \"\";position: absolute;border-left: 1px solid gray;box-sizing: border-box;top: 0;bottom: 0;left: 50%;z-index: -1;}#sk-container-id-5 div.sk-parallel-item {display: flex;flex-direction: column;z-index: 1;position: relative;background-color: white;}#sk-container-id-5 div.sk-parallel-item:first-child::after {align-self: flex-end;width: 50%;}#sk-container-id-5 div.sk-parallel-item:last-child::after {align-self: flex-start;width: 50%;}#sk-container-id-5 div.sk-parallel-item:only-child::after {width: 0;}#sk-container-id-5 div.sk-dashed-wrapped {border: 1px dashed gray;margin: 0 0.4em 0.5em 0.4em;box-sizing: border-box;padding-bottom: 0.4em;background-color: white;}#sk-container-id-5 div.sk-label label {font-family: monospace;font-weight: bold;display: inline-block;line-height: 1.2em;}#sk-container-id-5 div.sk-label-container {text-align: center;}#sk-container-id-5 div.sk-container {/* jupyter's `normalize.less` sets `[hidden] { display: none; }` but bootstrap.min.css set `[hidden] { display: none !important; }` so we also need the `!important` here to be able to override the default hidden behavior on the sphinx rendered scikit-learn.org. See: https://github.com/scikit-learn/scikit-learn/issues/21755 */display: inline-block !important;position: relative;}#sk-container-id-5 div.sk-text-repr-fallback {display: none;}</style><div id=\"sk-container-id-5\" class=\"sk-top-container\"><div class=\"sk-text-repr-fallback\"><pre>KNeighborsClassifier()</pre><b>In a Jupyter environment, please rerun this cell to show the HTML representation or trust the notebook. <br />On GitHub, the HTML representation is unable to render, please try loading this page with nbviewer.org.</b></div><div class=\"sk-container\" hidden><div class=\"sk-item\"><div class=\"sk-estimator sk-toggleable\"><input class=\"sk-toggleable__control sk-hidden--visually\" id=\"sk-estimator-id-5\" type=\"checkbox\" checked><label for=\"sk-estimator-id-5\" class=\"sk-toggleable__label sk-toggleable__label-arrow\">KNeighborsClassifier</label><div class=\"sk-toggleable__content\"><pre>KNeighborsClassifier()</pre></div></div></div></div></div>"
      ],
      "text/plain": [
       "KNeighborsClassifier()"
      ]
     },
     "execution_count": 94,
     "metadata": {},
     "output_type": "execute_result"
    }
   ],
   "source": [
    "clf_knn = KNeighborsClassifier()\n",
    "clf_knn.fit(X_scaler, y)"
   ]
  },
  {
   "cell_type": "code",
   "execution_count": 105,
   "id": "48543406",
   "metadata": {},
   "outputs": [],
   "source": [
    "xx_s, yy_s = np.meshgrid(np.arange(-3, 5, 0.1), np.arange(-2, 7, 0.1))\n",
    "coords_s = np.stack((xx_s.reshape(-1), yy_s.reshape(-1)), axis = 1)"
   ]
  },
  {
   "cell_type": "code",
   "execution_count": 106,
   "id": "916f6552",
   "metadata": {},
   "outputs": [],
   "source": [
    "Z_s = clf_knn.predict(coords_s)\n",
    "Z_s = Z_s.reshape(xx_s.shape)"
   ]
  },
  {
   "cell_type": "code",
   "execution_count": 107,
   "id": "2fe90390",
   "metadata": {},
   "outputs": [
    {
     "data": {
      "image/png": "[encoded data removed]",
      "text/plain": [
       "<Figure size 360x360 with 1 Axes>"
      ]
     },
     "metadata": {
      "needs_background": "light"
     },
     "output_type": "display_data"
    }
   ],
   "source": [
    "plot_res(X_scaler[:, 0], X_scaler[:, 1], xx_s, yy_s, Z_s)"
   ]
  },
  {
   "cell_type": "markdown",
   "id": "6dd5d677",
   "metadata": {},
   "source": [
    "# 支持向量机（support vector machines)"
   ]
  },
  {
   "cell_type": "code",
   "execution_count": 98,
   "id": "a8732d0b",
   "metadata": {},
   "outputs": [],
   "source": [
    "from sklearn.pipeline import make_pipeline\n",
    "from sklearn.svm import SVC"
   ]
  },
  {
   "cell_type": "markdown",
   "id": "0ed375c0",
   "metadata": {},
   "source": [
    "线性核函数linear"
   ]
  },
  {
   "cell_type": "code",
   "execution_count": 99,
   "id": "acac4321",
   "metadata": {},
   "outputs": [
    {
     "data": {
      "text/html": [
       "<style>#sk-container-id-6 {color: black;background-color: white;}#sk-container-id-6 pre{padding: 0;}#sk-container-id-6 div.sk-toggleable {background-color: white;}#sk-container-id-6 label.sk-toggleable__label {cursor: pointer;display: block;width: 100%;margin-bottom: 0;padding: 0.3em;box-sizing: border-box;text-align: center;}#sk-container-id-6 label.sk-toggleable__label-arrow:before {content: \"▸\";float: left;margin-right: 0.25em;color: #696969;}#sk-container-id-6 label.sk-toggleable__label-arrow:hover:before {color: black;}#sk-container-id-6 div.sk-estimator:hover label.sk-toggleable__label-arrow:before {color: black;}#sk-container-id-6 div.sk-toggleable__content {max-height: 0;max-width: 0;overflow: hidden;text-align: left;background-color: #f0f8ff;}#sk-container-id-6 div.sk-toggleable__content pre {margin: 0.2em;color: black;border-radius: 0.25em;background-color: #f0f8ff;}#sk-container-id-6 input.sk-toggleable__control:checked~div.sk-toggleable__content {max-height: 200px;max-width: 100%;overflow: auto;}#sk-container-id-6 input.sk-toggleable__control:checked~label.sk-toggleable__label-arrow:before {content: \"▾\";}#sk-container-id-6 div.sk-estimator input.sk-toggleable__control:checked~label.sk-toggleable__label {background-color: #d4ebff;}#sk-container-id-6 div.sk-label input.sk-toggleable__control:checked~label.sk-toggleable__label {background-color: #d4ebff;}#sk-container-id-6 input.sk-hidden--visually {border: 0;clip: rect(1px 1px 1px 1px);clip: rect(1px, 1px, 1px, 1px);height: 1px;margin: -1px;overflow: hidden;padding: 0;position: absolute;width: 1px;}#sk-container-id-6 div.sk-estimator {font-family: monospace;background-color: #f0f8ff;border: 1px dotted black;border-radius: 0.25em;box-sizing: border-box;margin-bottom: 0.5em;}#sk-container-id-6 div.sk-estimator:hover {background-color: #d4ebff;}#sk-container-id-6 div.sk-parallel-item::after {content: \"\";width: 100%;border-bottom: 1px solid gray;flex-grow: 1;}#sk-container-id-6 div.sk-label:hover label.sk-toggleable__label {background-color: #d4ebff;}#sk-container-id-6 div.sk-serial::before {content: \"\";position: absolute;border-left: 1px solid gray;box-sizing: border-box;top: 0;bottom: 0;left: 50%;z-index: 0;}#sk-container-id-6 div.sk-serial {display: flex;flex-direction: column;align-items: center;background-color: white;padding-right: 0.2em;padding-left: 0.2em;position: relative;}#sk-container-id-6 div.sk-item {position: relative;z-index: 1;}#sk-container-id-6 div.sk-parallel {display: flex;align-items: stretch;justify-content: center;background-color: white;position: relative;}#sk-container-id-6 div.sk-item::before, #sk-container-id-6 div.sk-parallel-item::before {content: \"\";position: absolute;border-left: 1px solid gray;box-sizing: border-box;top: 0;bottom: 0;left: 50%;z-index: -1;}#sk-container-id-6 div.sk-parallel-item {display: flex;flex-direction: column;z-index: 1;position: relative;background-color: white;}#sk-container-id-6 div.sk-parallel-item:first-child::after {align-self: flex-end;width: 50%;}#sk-container-id-6 div.sk-parallel-item:last-child::after {align-self: flex-start;width: 50%;}#sk-container-id-6 div.sk-parallel-item:only-child::after {width: 0;}#sk-container-id-6 div.sk-dashed-wrapped {border: 1px dashed gray;margin: 0 0.4em 0.5em 0.4em;box-sizing: border-box;padding-bottom: 0.4em;background-color: white;}#sk-container-id-6 div.sk-label label {font-family: monospace;font-weight: bold;display: inline-block;line-height: 1.2em;}#sk-container-id-6 div.sk-label-container {text-align: center;}#sk-container-id-6 div.sk-container {/* jupyter's `normalize.less` sets `[hidden] { display: none; }` but bootstrap.min.css set `[hidden] { display: none !important; }` so we also need the `!important` here to be able to override the default hidden behavior on the sphinx rendered scikit-learn.org. See: https://github.com/scikit-learn/scikit-learn/issues/21755 */display: inline-block !important;position: relative;}#sk-container-id-6 div.sk-text-repr-fallback {display: none;}</style><div id=\"sk-container-id-6\" class=\"sk-top-container\"><div class=\"sk-text-repr-fallback\"><pre>Pipeline(steps=[(&#x27;standardscaler&#x27;, StandardScaler()),\n",
       "                (&#x27;svc&#x27;, SVC(kernel=&#x27;linear&#x27;))])</pre><b>In a Jupyter environment, please rerun this cell to show the HTML representation or trust the notebook. <br />On GitHub, the HTML representation is unable to render, please try loading this page with nbviewer.org.</b></div><div class=\"sk-container\" hidden><div class=\"sk-item sk-dashed-wrapped\"><div class=\"sk-label-container\"><div class=\"sk-label sk-toggleable\"><input class=\"sk-toggleable__control sk-hidden--visually\" id=\"sk-estimator-id-6\" type=\"checkbox\" ><label for=\"sk-estimator-id-6\" class=\"sk-toggleable__label sk-toggleable__label-arrow\">Pipeline</label><div class=\"sk-toggleable__content\"><pre>Pipeline(steps=[(&#x27;standardscaler&#x27;, StandardScaler()),\n",
       "                (&#x27;svc&#x27;, SVC(kernel=&#x27;linear&#x27;))])</pre></div></div></div><div class=\"sk-serial\"><div class=\"sk-item\"><div class=\"sk-estimator sk-toggleable\"><input class=\"sk-toggleable__control sk-hidden--visually\" id=\"sk-estimator-id-7\" type=\"checkbox\" ><label for=\"sk-estimator-id-7\" class=\"sk-toggleable__label sk-toggleable__label-arrow\">StandardScaler</label><div class=\"sk-toggleable__content\"><pre>StandardScaler()</pre></div></div></div><div class=\"sk-item\"><div class=\"sk-estimator sk-toggleable\"><input class=\"sk-toggleable__control sk-hidden--visually\" id=\"sk-estimator-id-8\" type=\"checkbox\" ><label for=\"sk-estimator-id-8\" class=\"sk-toggleable__label sk-toggleable__label-arrow\">SVC</label><div class=\"sk-toggleable__content\"><pre>SVC(kernel=&#x27;linear&#x27;)</pre></div></div></div></div></div></div></div>"
      ],
      "text/plain": [
       "Pipeline(steps=[('standardscaler', StandardScaler()),\n",
       "                ('svc', SVC(kernel='linear'))])"
      ]
     },
     "execution_count": 99,
     "metadata": {},
     "output_type": "execute_result"
    }
   ],
   "source": [
    "clf_svm = make_pipeline(StandardScaler(), SVC(kernel = 'linear')) #线性核函数\n",
    "clf_svm.fit(X, y)"
   ]
  },
  {
   "cell_type": "code",
   "execution_count": 101,
   "id": "939974e9",
   "metadata": {},
   "outputs": [],
   "source": [
    "xx,yy = np.meshgrid(np.arange(0.0, 12.0, 0.1), np.arange(-100, 2300, 1))\n",
    "coords = np.stack((xx.reshape(-1), yy.reshape(-1)), axis = 1)"
   ]
  },
  {
   "cell_type": "code",
   "execution_count": 102,
   "id": "201516ab",
   "metadata": {},
   "outputs": [],
   "source": [
    "Z = clf_svm.predict(coords)\n",
    "Z = Z.reshape(xx.shape)"
   ]
  },
  {
   "cell_type": "code",
   "execution_count": 104,
   "id": "9ef29958",
   "metadata": {},
   "outputs": [
    {
     "data": {
      "image/png": "[encoded data removed]",
      "text/plain": [
       "<Figure size 360x360 with 1 Axes>"
      ]
     },
     "metadata": {
      "needs_background": "light"
     },
     "output_type": "display_data"
    }
   ],
   "source": [
    "plot_res(x0, x1, xx, yy, Z)"
   ]
  },
  {
   "cell_type": "markdown",
   "id": "0cc9366f",
   "metadata": {},
   "source": [
    "rbf核函数"
   ]
  },
  {
   "cell_type": "code",
   "execution_count": 111,
   "id": "22b8a62a",
   "metadata": {},
   "outputs": [
    {
     "data": {
      "text/html": [
       "<style>#sk-container-id-8 {color: black;background-color: white;}#sk-container-id-8 pre{padding: 0;}#sk-container-id-8 div.sk-toggleable {background-color: white;}#sk-container-id-8 label.sk-toggleable__label {cursor: pointer;display: block;width: 100%;margin-bottom: 0;padding: 0.3em;box-sizing: border-box;text-align: center;}#sk-container-id-8 label.sk-toggleable__label-arrow:before {content: \"▸\";float: left;margin-right: 0.25em;color: #696969;}#sk-container-id-8 label.sk-toggleable__label-arrow:hover:before {color: black;}#sk-container-id-8 div.sk-estimator:hover label.sk-toggleable__label-arrow:before {color: black;}#sk-container-id-8 div.sk-toggleable__content {max-height: 0;max-width: 0;overflow: hidden;text-align: left;background-color: #f0f8ff;}#sk-container-id-8 div.sk-toggleable__content pre {margin: 0.2em;color: black;border-radius: 0.25em;background-color: #f0f8ff;}#sk-container-id-8 input.sk-toggleable__control:checked~div.sk-toggleable__content {max-height: 200px;max-width: 100%;overflow: auto;}#sk-container-id-8 input.sk-toggleable__control:checked~label.sk-toggleable__label-arrow:before {content: \"▾\";}#sk-container-id-8 div.sk-estimator input.sk-toggleable__control:checked~label.sk-toggleable__label {background-color: #d4ebff;}#sk-container-id-8 div.sk-label input.sk-toggleable__control:checked~label.sk-toggleable__label {background-color: #d4ebff;}#sk-container-id-8 input.sk-hidden--visually {border: 0;clip: rect(1px 1px 1px 1px);clip: rect(1px, 1px, 1px, 1px);height: 1px;margin: -1px;overflow: hidden;padding: 0;position: absolute;width: 1px;}#sk-container-id-8 div.sk-estimator {font-family: monospace;background-color: #f0f8ff;border: 1px dotted black;border-radius: 0.25em;box-sizing: border-box;margin-bottom: 0.5em;}#sk-container-id-8 div.sk-estimator:hover {background-color: #d4ebff;}#sk-container-id-8 div.sk-parallel-item::after {content: \"\";width: 100%;border-bottom: 1px solid gray;flex-grow: 1;}#sk-container-id-8 div.sk-label:hover label.sk-toggleable__label {background-color: #d4ebff;}#sk-container-id-8 div.sk-serial::before {content: \"\";position: absolute;border-left: 1px solid gray;box-sizing: border-box;top: 0;bottom: 0;left: 50%;z-index: 0;}#sk-container-id-8 div.sk-serial {display: flex;flex-direction: column;align-items: center;background-color: white;padding-right: 0.2em;padding-left: 0.2em;position: relative;}#sk-container-id-8 div.sk-item {position: relative;z-index: 1;}#sk-container-id-8 div.sk-parallel {display: flex;align-items: stretch;justify-content: center;background-color: white;position: relative;}#sk-container-id-8 div.sk-item::before, #sk-container-id-8 div.sk-parallel-item::before {content: \"\";position: absolute;border-left: 1px solid gray;box-sizing: border-box;top: 0;bottom: 0;left: 50%;z-index: -1;}#sk-container-id-8 div.sk-parallel-item {display: flex;flex-direction: column;z-index: 1;position: relative;background-color: white;}#sk-container-id-8 div.sk-parallel-item:first-child::after {align-self: flex-end;width: 50%;}#sk-container-id-8 div.sk-parallel-item:last-child::after {align-self: flex-start;width: 50%;}#sk-container-id-8 div.sk-parallel-item:only-child::after {width: 0;}#sk-container-id-8 div.sk-dashed-wrapped {border: 1px dashed gray;margin: 0 0.4em 0.5em 0.4em;box-sizing: border-box;padding-bottom: 0.4em;background-color: white;}#sk-container-id-8 div.sk-label label {font-family: monospace;font-weight: bold;display: inline-block;line-height: 1.2em;}#sk-container-id-8 div.sk-label-container {text-align: center;}#sk-container-id-8 div.sk-container {/* jupyter's `normalize.less` sets `[hidden] { display: none; }` but bootstrap.min.css set `[hidden] { display: none !important; }` so we also need the `!important` here to be able to override the default hidden behavior on the sphinx rendered scikit-learn.org. See: https://github.com/scikit-learn/scikit-learn/issues/21755 */display: inline-block !important;position: relative;}#sk-container-id-8 div.sk-text-repr-fallback {display: none;}</style><div id=\"sk-container-id-8\" class=\"sk-top-container\"><div class=\"sk-text-repr-fallback\"><pre>Pipeline(steps=[(&#x27;standardscaler&#x27;, StandardScaler()), (&#x27;svc&#x27;, SVC())])</pre><b>In a Jupyter environment, please rerun this cell to show the HTML representation or trust the notebook. <br />On GitHub, the HTML representation is unable to render, please try loading this page with nbviewer.org.</b></div><div class=\"sk-container\" hidden><div class=\"sk-item sk-dashed-wrapped\"><div class=\"sk-label-container\"><div class=\"sk-label sk-toggleable\"><input class=\"sk-toggleable__control sk-hidden--visually\" id=\"sk-estimator-id-12\" type=\"checkbox\" ><label for=\"sk-estimator-id-12\" class=\"sk-toggleable__label sk-toggleable__label-arrow\">Pipeline</label><div class=\"sk-toggleable__content\"><pre>Pipeline(steps=[(&#x27;standardscaler&#x27;, StandardScaler()), (&#x27;svc&#x27;, SVC())])</pre></div></div></div><div class=\"sk-serial\"><div class=\"sk-item\"><div class=\"sk-estimator sk-toggleable\"><input class=\"sk-toggleable__control sk-hidden--visually\" id=\"sk-estimator-id-13\" type=\"checkbox\" ><label for=\"sk-estimator-id-13\" class=\"sk-toggleable__label sk-toggleable__label-arrow\">StandardScaler</label><div class=\"sk-toggleable__content\"><pre>StandardScaler()</pre></div></div></div><div class=\"sk-item\"><div class=\"sk-estimator sk-toggleable\"><input class=\"sk-toggleable__control sk-hidden--visually\" id=\"sk-estimator-id-14\" type=\"checkbox\" ><label for=\"sk-estimator-id-14\" class=\"sk-toggleable__label sk-toggleable__label-arrow\">SVC</label><div class=\"sk-toggleable__content\"><pre>SVC()</pre></div></div></div></div></div></div></div>"
      ],
      "text/plain": [
       "Pipeline(steps=[('standardscaler', StandardScaler()), ('svc', SVC())])"
      ]
     },
     "execution_count": 111,
     "metadata": {},
     "output_type": "execute_result"
    }
   ],
   "source": [
    "clf_svm_rbf = make_pipeline(StandardScaler(), SVC(kernel = 'rbf')) #线性核函数\n",
    "clf_svm_rbf.fit(X, y)"
   ]
  },
  {
   "cell_type": "code",
   "execution_count": 114,
   "id": "3005877b",
   "metadata": {},
   "outputs": [],
   "source": [
    "Z_rbf = clf_svm_rbf.predict(coords)\n",
    "Z_rbf = Z_rbf.reshape(xx.shape)"
   ]
  },
  {
   "cell_type": "code",
   "execution_count": 115,
   "id": "19d859fe",
   "metadata": {},
   "outputs": [
    {
     "data": {
      "image/png": "[encoded data removed]",
      "text/plain": [
       "<Figure size 360x360 with 1 Axes>"
      ]
     },
     "metadata": {
      "needs_background": "light"
     },
     "output_type": "display_data"
    }
   ],
   "source": [
    "plot_res(x0, x1, xx, yy, Z_rbf)"
   ]
  },
  {
   "cell_type": "markdown",
   "id": "b06a3049",
   "metadata": {},
   "source": [
    "# 分类算法评估"
   ]
  },
  {
   "cell_type": "code",
   "execution_count": 116,
   "id": "e056a2b3",
   "metadata": {},
   "outputs": [],
   "source": [
    "from sklearn.metrics import precision_score"
   ]
  },
  {
   "cell_type": "code",
   "execution_count": 117,
   "id": "a4ce58da",
   "metadata": {},
   "outputs": [],
   "source": [
    "y_true = [0, 1, 0, 0, 1, 0]\n",
    "y_pred = [0, 1, 1, 0, 1, 1]"
   ]
  },
  {
   "cell_type": "code",
   "execution_count": 118,
   "id": "ba5d4510",
   "metadata": {},
   "outputs": [
    {
     "data": {
      "text/plain": [
       "0.5"
      ]
     },
     "execution_count": 118,
     "metadata": {},
     "output_type": "execute_result"
    }
   ],
   "source": [
    "precision_score(y_true, y_pred) #查准率"
   ]
  },
  {
   "cell_type": "code",
   "execution_count": 125,
   "id": "bdf71431",
   "metadata": {},
   "outputs": [
    {
     "name": "stdout",
     "output_type": "stream",
     "text": [
      "[1.  0.5]\n",
      "0.75\n",
      "0.6666666666666666\n",
      "0.8333333333333334\n"
     ]
    }
   ],
   "source": [
    "print(precision_score(y_true, y_pred, average = None))\n",
    "print(precision_score(y_true, y_pred, average = 'macro')) #宏平均\n",
    "print(precision_score(y_true, y_pred, average = 'micro')) #微平均\n",
    "print(precision_score(y_true, y_pred, average = 'weighted')) #权重"
   ]
  },
  {
   "cell_type": "code",
   "execution_count": 119,
   "id": "f0a22bcc",
   "metadata": {},
   "outputs": [],
   "source": [
    "from sklearn.metrics import recall_score"
   ]
  },
  {
   "cell_type": "code",
   "execution_count": 120,
   "id": "9d40280d",
   "metadata": {},
   "outputs": [],
   "source": [
    "y_true = [0, 1, 0, 0, 1, 0]\n",
    "y_pred = [0, 1, 1, 0, 1, 1]"
   ]
  },
  {
   "cell_type": "code",
   "execution_count": 121,
   "id": "a2f772dc",
   "metadata": {},
   "outputs": [
    {
     "data": {
      "text/plain": [
       "1.0"
      ]
     },
     "execution_count": 121,
     "metadata": {},
     "output_type": "execute_result"
    }
   ],
   "source": [
    "recall_score(y_true, y_pred) #查全率"
   ]
  },
  {
   "cell_type": "markdown",
   "id": "20e3fbb9",
   "metadata": {},
   "source": [
    "# PR曲线/查准率查全率曲线"
   ]
  },
  {
   "cell_type": "code",
   "execution_count": 126,
   "id": "f74fbad6",
   "metadata": {},
   "outputs": [
    {
     "data": {
      "image/png": "[encoded data removed]",
      "text/plain": [
       "<Figure size 432x288 with 1 Axes>"
      ]
     },
     "metadata": {
      "needs_background": "light"
     },
     "output_type": "display_data"
    }
   ],
   "source": [
    "from sklearn.metrics import PrecisionRecallDisplay \n",
    "\n",
    "display = PrecisionRecallDisplay.from_estimator(clf_knn, X_scaler, y, name = 'knn')\n",
    "plt.show()"
   ]
  },
  {
   "cell_type": "code",
   "execution_count": 129,
   "id": "0552d714",
   "metadata": {},
   "outputs": [],
   "source": [
    "y_score = clf_knn.predict_proba(scaler.transform(X))[:, 1]"
   ]
  },
  {
   "cell_type": "code",
   "execution_count": 131,
   "id": "acfcb190",
   "metadata": {},
   "outputs": [
    {
     "data": {
      "image/png": "[encoded data removed]",
      "text/plain": [
       "<Figure size 432x288 with 1 Axes>"
      ]
     },
     "metadata": {
      "needs_background": "light"
     },
     "output_type": "display_data"
    }
   ],
   "source": [
    "display = PrecisionRecallDisplay.from_predictions(y, y_score, name = 'knn')\n",
    "plt.show()"
   ]
  },
  {
   "cell_type": "code",
   "execution_count": 132,
   "id": "e5c38a60",
   "metadata": {},
   "outputs": [],
   "source": [
    "from sklearn.metrics import precision_recall_curve"
   ]
  },
  {
   "cell_type": "code",
   "execution_count": 135,
   "id": "02054108",
   "metadata": {},
   "outputs": [],
   "source": [
    "precision_knn, recall_knn, thresholds_knn = precision_recall_curve(y, clf_knn.predict_proba(scaler.transform(X))[:, 1])"
   ]
  },
  {
   "cell_type": "code",
   "execution_count": 136,
   "id": "33de64b0",
   "metadata": {},
   "outputs": [
    {
     "data": {
      "text/plain": [
       "(array([0.51515152, 0.70833333, 0.83478261, 0.89108911, 0.96341463,\n",
       "        1.        , 1.        ]),\n",
       " array([1.        , 1.        , 0.94117647, 0.88235294, 0.7745098 ,\n",
       "        0.61764706, 0.        ]),\n",
       " array([0. , 0.2, 0.4, 0.6, 0.8, 1. ]))"
      ]
     },
     "execution_count": 136,
     "metadata": {},
     "output_type": "execute_result"
    }
   ],
   "source": [
    "precision_knn, recall_knn, thresholds_knn"
   ]
  },
  {
   "cell_type": "code",
   "execution_count": 142,
   "id": "e456dabd",
   "metadata": {},
   "outputs": [
    {
     "data": {
      "text/html": [
       "<style>#sk-container-id-11 {color: black;background-color: white;}#sk-container-id-11 pre{padding: 0;}#sk-container-id-11 div.sk-toggleable {background-color: white;}#sk-container-id-11 label.sk-toggleable__label {cursor: pointer;display: block;width: 100%;margin-bottom: 0;padding: 0.3em;box-sizing: border-box;text-align: center;}#sk-container-id-11 label.sk-toggleable__label-arrow:before {content: \"▸\";float: left;margin-right: 0.25em;color: #696969;}#sk-container-id-11 label.sk-toggleable__label-arrow:hover:before {color: black;}#sk-container-id-11 div.sk-estimator:hover label.sk-toggleable__label-arrow:before {color: black;}#sk-container-id-11 div.sk-toggleable__content {max-height: 0;max-width: 0;overflow: hidden;text-align: left;background-color: #f0f8ff;}#sk-container-id-11 div.sk-toggleable__content pre {margin: 0.2em;color: black;border-radius: 0.25em;background-color: #f0f8ff;}#sk-container-id-11 input.sk-toggleable__control:checked~div.sk-toggleable__content {max-height: 200px;max-width: 100%;overflow: auto;}#sk-container-id-11 input.sk-toggleable__control:checked~label.sk-toggleable__label-arrow:before {content: \"▾\";}#sk-container-id-11 div.sk-estimator input.sk-toggleable__control:checked~label.sk-toggleable__label {background-color: #d4ebff;}#sk-container-id-11 div.sk-label input.sk-toggleable__control:checked~label.sk-toggleable__label {background-color: #d4ebff;}#sk-container-id-11 input.sk-hidden--visually {border: 0;clip: rect(1px 1px 1px 1px);clip: rect(1px, 1px, 1px, 1px);height: 1px;margin: -1px;overflow: hidden;padding: 0;position: absolute;width: 1px;}#sk-container-id-11 div.sk-estimator {font-family: monospace;background-color: #f0f8ff;border: 1px dotted black;border-radius: 0.25em;box-sizing: border-box;margin-bottom: 0.5em;}#sk-container-id-11 div.sk-estimator:hover {background-color: #d4ebff;}#sk-container-id-11 div.sk-parallel-item::after {content: \"\";width: 100%;border-bottom: 1px solid gray;flex-grow: 1;}#sk-container-id-11 div.sk-label:hover label.sk-toggleable__label {background-color: #d4ebff;}#sk-container-id-11 div.sk-serial::before {content: \"\";position: absolute;border-left: 1px solid gray;box-sizing: border-box;top: 0;bottom: 0;left: 50%;z-index: 0;}#sk-container-id-11 div.sk-serial {display: flex;flex-direction: column;align-items: center;background-color: white;padding-right: 0.2em;padding-left: 0.2em;position: relative;}#sk-container-id-11 div.sk-item {position: relative;z-index: 1;}#sk-container-id-11 div.sk-parallel {display: flex;align-items: stretch;justify-content: center;background-color: white;position: relative;}#sk-container-id-11 div.sk-item::before, #sk-container-id-11 div.sk-parallel-item::before {content: \"\";position: absolute;border-left: 1px solid gray;box-sizing: border-box;top: 0;bottom: 0;left: 50%;z-index: -1;}#sk-container-id-11 div.sk-parallel-item {display: flex;flex-direction: column;z-index: 1;position: relative;background-color: white;}#sk-container-id-11 div.sk-parallel-item:first-child::after {align-self: flex-end;width: 50%;}#sk-container-id-11 div.sk-parallel-item:last-child::after {align-self: flex-start;width: 50%;}#sk-container-id-11 div.sk-parallel-item:only-child::after {width: 0;}#sk-container-id-11 div.sk-dashed-wrapped {border: 1px dashed gray;margin: 0 0.4em 0.5em 0.4em;box-sizing: border-box;padding-bottom: 0.4em;background-color: white;}#sk-container-id-11 div.sk-label label {font-family: monospace;font-weight: bold;display: inline-block;line-height: 1.2em;}#sk-container-id-11 div.sk-label-container {text-align: center;}#sk-container-id-11 div.sk-container {/* jupyter's `normalize.less` sets `[hidden] { display: none; }` but bootstrap.min.css set `[hidden] { display: none !important; }` so we also need the `!important` here to be able to override the default hidden behavior on the sphinx rendered scikit-learn.org. See: https://github.com/scikit-learn/scikit-learn/issues/21755 */display: inline-block !important;position: relative;}#sk-container-id-11 div.sk-text-repr-fallback {display: none;}</style><div id=\"sk-container-id-11\" class=\"sk-top-container\"><div class=\"sk-text-repr-fallback\"><pre>SVC(kernel=&#x27;linear&#x27;, probability=True)</pre><b>In a Jupyter environment, please rerun this cell to show the HTML representation or trust the notebook. <br />On GitHub, the HTML representation is unable to render, please try loading this page with nbviewer.org.</b></div><div class=\"sk-container\" hidden><div class=\"sk-item\"><div class=\"sk-estimator sk-toggleable\"><input class=\"sk-toggleable__control sk-hidden--visually\" id=\"sk-estimator-id-17\" type=\"checkbox\" checked><label for=\"sk-estimator-id-17\" class=\"sk-toggleable__label sk-toggleable__label-arrow\">SVC</label><div class=\"sk-toggleable__content\"><pre>SVC(kernel=&#x27;linear&#x27;, probability=True)</pre></div></div></div></div></div>"
      ],
      "text/plain": [
       "SVC(kernel='linear', probability=True)"
      ]
     },
     "execution_count": 142,
     "metadata": {},
     "output_type": "execute_result"
    }
   ],
   "source": [
    "clf_svm3 = SVC(kernel = 'linear', probability = True)\n",
    "clf_svm3.fit(X_scaler, y)"
   ]
  },
  {
   "cell_type": "code",
   "execution_count": 143,
   "id": "4b84bc48",
   "metadata": {},
   "outputs": [],
   "source": [
    "precision_svm3, recall_svm3, thresholds_svm3 = precision_recall_curve(y, clf_svm3.predict_proba(X_scaler)[:, 1])"
   ]
  },
  {
   "cell_type": "code",
   "execution_count": 144,
   "id": "9df2f0a7",
   "metadata": {},
   "outputs": [
    {
     "data": {
      "text/html": [
       "<style>#sk-container-id-12 {color: black;background-color: white;}#sk-container-id-12 pre{padding: 0;}#sk-container-id-12 div.sk-toggleable {background-color: white;}#sk-container-id-12 label.sk-toggleable__label {cursor: pointer;display: block;width: 100%;margin-bottom: 0;padding: 0.3em;box-sizing: border-box;text-align: center;}#sk-container-id-12 label.sk-toggleable__label-arrow:before {content: \"▸\";float: left;margin-right: 0.25em;color: #696969;}#sk-container-id-12 label.sk-toggleable__label-arrow:hover:before {color: black;}#sk-container-id-12 div.sk-estimator:hover label.sk-toggleable__label-arrow:before {color: black;}#sk-container-id-12 div.sk-toggleable__content {max-height: 0;max-width: 0;overflow: hidden;text-align: left;background-color: #f0f8ff;}#sk-container-id-12 div.sk-toggleable__content pre {margin: 0.2em;color: black;border-radius: 0.25em;background-color: #f0f8ff;}#sk-container-id-12 input.sk-toggleable__control:checked~div.sk-toggleable__content {max-height: 200px;max-width: 100%;overflow: auto;}#sk-container-id-12 input.sk-toggleable__control:checked~label.sk-toggleable__label-arrow:before {content: \"▾\";}#sk-container-id-12 div.sk-estimator input.sk-toggleable__control:checked~label.sk-toggleable__label {background-color: #d4ebff;}#sk-container-id-12 div.sk-label input.sk-toggleable__control:checked~label.sk-toggleable__label {background-color: #d4ebff;}#sk-container-id-12 input.sk-hidden--visually {border: 0;clip: rect(1px 1px 1px 1px);clip: rect(1px, 1px, 1px, 1px);height: 1px;margin: -1px;overflow: hidden;padding: 0;position: absolute;width: 1px;}#sk-container-id-12 div.sk-estimator {font-family: monospace;background-color: #f0f8ff;border: 1px dotted black;border-radius: 0.25em;box-sizing: border-box;margin-bottom: 0.5em;}#sk-container-id-12 div.sk-estimator:hover {background-color: #d4ebff;}#sk-container-id-12 div.sk-parallel-item::after {content: \"\";width: 100%;border-bottom: 1px solid gray;flex-grow: 1;}#sk-container-id-12 div.sk-label:hover label.sk-toggleable__label {background-color: #d4ebff;}#sk-container-id-12 div.sk-serial::before {content: \"\";position: absolute;border-left: 1px solid gray;box-sizing: border-box;top: 0;bottom: 0;left: 50%;z-index: 0;}#sk-container-id-12 div.sk-serial {display: flex;flex-direction: column;align-items: center;background-color: white;padding-right: 0.2em;padding-left: 0.2em;position: relative;}#sk-container-id-12 div.sk-item {position: relative;z-index: 1;}#sk-container-id-12 div.sk-parallel {display: flex;align-items: stretch;justify-content: center;background-color: white;position: relative;}#sk-container-id-12 div.sk-item::before, #sk-container-id-12 div.sk-parallel-item::before {content: \"\";position: absolute;border-left: 1px solid gray;box-sizing: border-box;top: 0;bottom: 0;left: 50%;z-index: -1;}#sk-container-id-12 div.sk-parallel-item {display: flex;flex-direction: column;z-index: 1;position: relative;background-color: white;}#sk-container-id-12 div.sk-parallel-item:first-child::after {align-self: flex-end;width: 50%;}#sk-container-id-12 div.sk-parallel-item:last-child::after {align-self: flex-start;width: 50%;}#sk-container-id-12 div.sk-parallel-item:only-child::after {width: 0;}#sk-container-id-12 div.sk-dashed-wrapped {border: 1px dashed gray;margin: 0 0.4em 0.5em 0.4em;box-sizing: border-box;padding-bottom: 0.4em;background-color: white;}#sk-container-id-12 div.sk-label label {font-family: monospace;font-weight: bold;display: inline-block;line-height: 1.2em;}#sk-container-id-12 div.sk-label-container {text-align: center;}#sk-container-id-12 div.sk-container {/* jupyter's `normalize.less` sets `[hidden] { display: none; }` but bootstrap.min.css set `[hidden] { display: none !important; }` so we also need the `!important` here to be able to override the default hidden behavior on the sphinx rendered scikit-learn.org. See: https://github.com/scikit-learn/scikit-learn/issues/21755 */display: inline-block !important;position: relative;}#sk-container-id-12 div.sk-text-repr-fallback {display: none;}</style><div id=\"sk-container-id-12\" class=\"sk-top-container\"><div class=\"sk-text-repr-fallback\"><pre>SVC(probability=True)</pre><b>In a Jupyter environment, please rerun this cell to show the HTML representation or trust the notebook. <br />On GitHub, the HTML representation is unable to render, please try loading this page with nbviewer.org.</b></div><div class=\"sk-container\" hidden><div class=\"sk-item\"><div class=\"sk-estimator sk-toggleable\"><input class=\"sk-toggleable__control sk-hidden--visually\" id=\"sk-estimator-id-18\" type=\"checkbox\" checked><label for=\"sk-estimator-id-18\" class=\"sk-toggleable__label sk-toggleable__label-arrow\">SVC</label><div class=\"sk-toggleable__content\"><pre>SVC(probability=True)</pre></div></div></div></div></div>"
      ],
      "text/plain": [
       "SVC(probability=True)"
      ]
     },
     "execution_count": 144,
     "metadata": {},
     "output_type": "execute_result"
    }
   ],
   "source": [
    "clf_svm4 = SVC(kernel = 'rbf', probability = True)\n",
    "clf_svm4.fit(X_scaler, y)"
   ]
  },
  {
   "cell_type": "code",
   "execution_count": 145,
   "id": "58415709",
   "metadata": {},
   "outputs": [],
   "source": [
    "precision_svm4, recall_svm4, thresholds_svm4 = precision_recall_curve(y, clf_svm4.predict_proba(X_scaler)[:, 1])"
   ]
  },
  {
   "cell_type": "code",
   "execution_count": 146,
   "id": "c182a145",
   "metadata": {},
   "outputs": [
    {
     "data": {
      "image/png": "[encoded data removed]",
      "text/plain": [
       "<Figure size 288x288 with 1 Axes>"
      ]
     },
     "metadata": {
      "needs_background": "light"
     },
     "output_type": "display_data"
    }
   ],
   "source": [
    "fig, ax = plt.subplots(figsize = (4, 4))\n",
    "\n",
    "ax.step(recall_knn, precision_knn, label = 'knn')\n",
    "ax.step(recall_svm3, precision_svm3, label = 'svm_linear')\n",
    "ax.step(recall_svm4, precision_svm4, label = 'svm_rbf')\n",
    "ax.plot([0,1],[0,1],'k--')\n",
    "ax.set_xlim(0.5, 1.05)\n",
    "ax.set_ylim(0.5, 1.05)\n",
    "ax.spines['right'].set_visible(False)\n",
    "ax.spines['top'].set_visible(False)\n",
    "fig.legend()\n",
    "\n",
    "plt.show()"
   ]
  },
  {
   "cell_type": "code",
   "execution_count": 138,
   "id": "b28d8c51",
   "metadata": {},
   "outputs": [
    {
     "data": {
      "text/plain": [
       "0.8866995073891626"
      ]
     },
     "execution_count": 138,
     "metadata": {},
     "output_type": "execute_result"
    }
   ],
   "source": [
    "from sklearn.metrics import f1_score\n",
    "\n",
    "f1_score(y, clf_knn.predict(X_scaler))"
   ]
  },
  {
   "cell_type": "code",
   "execution_count": 140,
   "id": "9439d6bf",
   "metadata": {},
   "outputs": [
    {
     "data": {
      "text/plain": [
       "0.854368932038835"
      ]
     },
     "execution_count": 140,
     "metadata": {},
     "output_type": "execute_result"
    }
   ],
   "source": [
    "f1_score(y, clf_svm3.predict(X_scaler))"
   ]
  },
  {
   "cell_type": "markdown",
   "id": "c79b38f5",
   "metadata": {},
   "source": [
    "# 受试者工作特征（Receiver Operating Characteristic)曲线"
   ]
  },
  {
   "cell_type": "code",
   "execution_count": 148,
   "id": "f6872bd0",
   "metadata": {},
   "outputs": [],
   "source": [
    "from sklearn.metrics import roc_curve\n",
    "\n",
    "fpr_knn, tpr_knn, threshold_knn = roc_curve(y, clf_knn.predict_proba(X_scaler)[:, 1], pos_label =1)"
   ]
  },
  {
   "cell_type": "code",
   "execution_count": 150,
   "id": "22fdb0cd",
   "metadata": {},
   "outputs": [
    {
     "data": {
      "text/plain": [
       "0.9618055555555556"
      ]
     },
     "execution_count": 150,
     "metadata": {},
     "output_type": "execute_result"
    }
   ],
   "source": [
    "from sklearn.metrics import auc\n",
    "\n",
    "roc_auc = auc(fpr_knn, tpr_knn)\n",
    "roc_auc"
   ]
  },
  {
   "cell_type": "code",
   "execution_count": 152,
   "id": "14465ebe",
   "metadata": {},
   "outputs": [],
   "source": [
    "fpr_svm3, tpr_svm3, threshold_svm3 = roc_curve(y, clf_svm3.predict_proba(X_scaler)[:, 1], pos_label =1)"
   ]
  },
  {
   "cell_type": "code",
   "execution_count": 153,
   "id": "9328452a",
   "metadata": {},
   "outputs": [
    {
     "data": {
      "text/plain": [
       "0.9441380718954249"
      ]
     },
     "execution_count": 153,
     "metadata": {},
     "output_type": "execute_result"
    }
   ],
   "source": [
    "roc_auc = auc(fpr_svm3, tpr_svm3)\n",
    "roc_auc"
   ]
  },
  {
   "cell_type": "code",
   "execution_count": null,
   "id": "9cf65642",
   "metadata": {},
   "outputs": [],
   "source": []
  }
 ],
 "metadata": {
  "kernelspec": {
   "display_name": "Python 3",
   "language": "python",
   "name": "python3"
  },
  "language_info": {
   "codemirror_mode": {
    "name": "ipython",
    "version": 3
   },
   "file_extension": ".py",
   "mimetype": "text/x-python",
   "name": "python",
   "nbconvert_exporter": "python",
   "pygments_lexer": "ipython3",
   "version": "3.8.8"
  }
 },
 "nbformat": 4,
 "nbformat_minor": 5
}
