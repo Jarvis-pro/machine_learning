{
 "cells": [
  {
   "cell_type": "code",
   "execution_count": 1,
   "id": "613a8b15",
   "metadata": {},
   "outputs": [
    {
     "data": {
      "text/html": [
       "<div>\n",
       "<style scoped>\n",
       "    .dataframe tbody tr th:only-of-type {\n",
       "        vertical-align: middle;\n",
       "    }\n",
       "\n",
       "    .dataframe tbody tr th {\n",
       "        vertical-align: top;\n",
       "    }\n",
       "\n",
       "    .dataframe thead th {\n",
       "        text-align: right;\n",
       "    }\n",
       "</style>\n",
       "<table border=\"1\" class=\"dataframe\">\n",
       "  <thead>\n",
       "    <tr style=\"text-align: right;\">\n",
       "      <th></th>\n",
       "      <th>Compound</th>\n",
       "      <th>log(Kow)</th>\n",
       "      <th>EHOMO</th>\n",
       "      <th>Q-</th>\n",
       "      <th>ELUMO</th>\n",
       "      <th>Q+</th>\n",
       "      <th>Class</th>\n",
       "    </tr>\n",
       "  </thead>\n",
       "  <tbody>\n",
       "    <tr>\n",
       "      <th>0</th>\n",
       "      <td>methanol</td>\n",
       "      <td>-0.77</td>\n",
       "      <td>-11.135</td>\n",
       "      <td>-0.5353</td>\n",
       "      <td>3.7775</td>\n",
       "      <td>0.3182</td>\n",
       "      <td>1</td>\n",
       "    </tr>\n",
       "    <tr>\n",
       "      <th>1</th>\n",
       "      <td>ethanol</td>\n",
       "      <td>-0.31</td>\n",
       "      <td>-11.050</td>\n",
       "      <td>-0.5360</td>\n",
       "      <td>3.6513</td>\n",
       "      <td>0.3107</td>\n",
       "      <td>1</td>\n",
       "    </tr>\n",
       "    <tr>\n",
       "      <th>2</th>\n",
       "      <td>1-propanol</td>\n",
       "      <td>0.25</td>\n",
       "      <td>-10.940</td>\n",
       "      <td>-0.5317</td>\n",
       "      <td>3.6324</td>\n",
       "      <td>0.3122</td>\n",
       "      <td>1</td>\n",
       "    </tr>\n",
       "    <tr>\n",
       "      <th>3</th>\n",
       "      <td>2-propanol</td>\n",
       "      <td>0.05</td>\n",
       "      <td>-10.895</td>\n",
       "      <td>-0.5469</td>\n",
       "      <td>3.4925</td>\n",
       "      <td>0.3166</td>\n",
       "      <td>1</td>\n",
       "    </tr>\n",
       "    <tr>\n",
       "      <th>4</th>\n",
       "      <td>1-butanol</td>\n",
       "      <td>0.88</td>\n",
       "      <td>-10.940</td>\n",
       "      <td>-0.5422</td>\n",
       "      <td>3.5041</td>\n",
       "      <td>0.3141</td>\n",
       "      <td>1</td>\n",
       "    </tr>\n",
       "    <tr>\n",
       "      <th>...</th>\n",
       "      <td>...</td>\n",
       "      <td>...</td>\n",
       "      <td>...</td>\n",
       "      <td>...</td>\n",
       "      <td>...</td>\n",
       "      <td>...</td>\n",
       "      <td>...</td>\n",
       "    </tr>\n",
       "    <tr>\n",
       "      <th>185</th>\n",
       "      <td>2-nitroaniline</td>\n",
       "      <td>1.85</td>\n",
       "      <td>-9.068</td>\n",
       "      <td>-0.6488</td>\n",
       "      <td>-0.7937</td>\n",
       "      <td>0.3510</td>\n",
       "      <td>2</td>\n",
       "    </tr>\n",
       "    <tr>\n",
       "      <th>186</th>\n",
       "      <td>3-nitroaniline</td>\n",
       "      <td>1.37</td>\n",
       "      <td>-9.254</td>\n",
       "      <td>-0.9468</td>\n",
       "      <td>-0.9503</td>\n",
       "      <td>0.3922</td>\n",
       "      <td>2</td>\n",
       "    </tr>\n",
       "    <tr>\n",
       "      <th>187</th>\n",
       "      <td>4-nitroaniline</td>\n",
       "      <td>1.39</td>\n",
       "      <td>-9.160</td>\n",
       "      <td>-0.6493</td>\n",
       "      <td>0.7050</td>\n",
       "      <td>0.3134</td>\n",
       "      <td>2</td>\n",
       "    </tr>\n",
       "    <tr>\n",
       "      <th>188</th>\n",
       "      <td>2-chloro-4-nitroaniline</td>\n",
       "      <td>2.06</td>\n",
       "      <td>-9.256</td>\n",
       "      <td>-0.6434</td>\n",
       "      <td>-0.9066</td>\n",
       "      <td>0.3183</td>\n",
       "      <td>2</td>\n",
       "    </tr>\n",
       "    <tr>\n",
       "      <th>189</th>\n",
       "      <td>4-ethoxy-2-nitroaniline</td>\n",
       "      <td>2.38</td>\n",
       "      <td>-8.994</td>\n",
       "      <td>-0.8070</td>\n",
       "      <td>-0.8747</td>\n",
       "      <td>0.3969</td>\n",
       "      <td>2</td>\n",
       "    </tr>\n",
       "  </tbody>\n",
       "</table>\n",
       "<p>190 rows × 7 columns</p>\n",
       "</div>"
      ],
      "text/plain": [
       "                    Compound  log(Kow)   EHOMO      Q-   ELUMO      Q+  Class\n",
       "0                   methanol     -0.77 -11.135 -0.5353  3.7775  0.3182      1\n",
       "1                    ethanol     -0.31 -11.050 -0.5360  3.6513  0.3107      1\n",
       "2                 1-propanol      0.25 -10.940 -0.5317  3.6324  0.3122      1\n",
       "3                 2-propanol      0.05 -10.895 -0.5469  3.4925  0.3166      1\n",
       "4                  1-butanol      0.88 -10.940 -0.5422  3.5041  0.3141      1\n",
       "..                       ...       ...     ...     ...     ...     ...    ...\n",
       "185           2-nitroaniline      1.85  -9.068 -0.6488 -0.7937  0.3510      2\n",
       "186           3-nitroaniline      1.37  -9.254 -0.9468 -0.9503  0.3922      2\n",
       "187           4-nitroaniline      1.39  -9.160 -0.6493  0.7050  0.3134      2\n",
       "188  2-chloro-4-nitroaniline      2.06  -9.256 -0.6434 -0.9066  0.3183      2\n",
       "189  4-ethoxy-2-nitroaniline      2.38  -8.994 -0.8070 -0.8747  0.3969      2\n",
       "\n",
       "[190 rows x 7 columns]"
      ]
     },
     "execution_count": 1,
     "metadata": {},
     "output_type": "execute_result"
    }
   ],
   "source": [
    "import pandas as pd\n",
    "\n",
    "df = pd.read_csv('organic.csv')\n",
    "df"
   ]
  },
  {
   "cell_type": "code",
   "execution_count": 2,
   "id": "f5eab0d8",
   "metadata": {},
   "outputs": [
    {
     "data": {
      "text/html": [
       "<div>\n",
       "<style scoped>\n",
       "    .dataframe tbody tr th:only-of-type {\n",
       "        vertical-align: middle;\n",
       "    }\n",
       "\n",
       "    .dataframe tbody tr th {\n",
       "        vertical-align: top;\n",
       "    }\n",
       "\n",
       "    .dataframe thead th {\n",
       "        text-align: right;\n",
       "    }\n",
       "</style>\n",
       "<table border=\"1\" class=\"dataframe\">\n",
       "  <thead>\n",
       "    <tr style=\"text-align: right;\">\n",
       "      <th></th>\n",
       "      <th>Compound</th>\n",
       "      <th>log(Kow)</th>\n",
       "      <th>EHOMO</th>\n",
       "      <th>Q-</th>\n",
       "      <th>ELUMO</th>\n",
       "      <th>Q+</th>\n",
       "      <th>Class</th>\n",
       "      <th>Gap</th>\n",
       "    </tr>\n",
       "  </thead>\n",
       "  <tbody>\n",
       "    <tr>\n",
       "      <th>0</th>\n",
       "      <td>methanol</td>\n",
       "      <td>-0.77</td>\n",
       "      <td>-11.135</td>\n",
       "      <td>-0.5353</td>\n",
       "      <td>3.7775</td>\n",
       "      <td>0.3182</td>\n",
       "      <td>1</td>\n",
       "      <td>14.9125</td>\n",
       "    </tr>\n",
       "    <tr>\n",
       "      <th>1</th>\n",
       "      <td>ethanol</td>\n",
       "      <td>-0.31</td>\n",
       "      <td>-11.050</td>\n",
       "      <td>-0.5360</td>\n",
       "      <td>3.6513</td>\n",
       "      <td>0.3107</td>\n",
       "      <td>1</td>\n",
       "      <td>14.7013</td>\n",
       "    </tr>\n",
       "    <tr>\n",
       "      <th>2</th>\n",
       "      <td>1-propanol</td>\n",
       "      <td>0.25</td>\n",
       "      <td>-10.940</td>\n",
       "      <td>-0.5317</td>\n",
       "      <td>3.6324</td>\n",
       "      <td>0.3122</td>\n",
       "      <td>1</td>\n",
       "      <td>14.5724</td>\n",
       "    </tr>\n",
       "    <tr>\n",
       "      <th>3</th>\n",
       "      <td>2-propanol</td>\n",
       "      <td>0.05</td>\n",
       "      <td>-10.895</td>\n",
       "      <td>-0.5469</td>\n",
       "      <td>3.4925</td>\n",
       "      <td>0.3166</td>\n",
       "      <td>1</td>\n",
       "      <td>14.3875</td>\n",
       "    </tr>\n",
       "    <tr>\n",
       "      <th>4</th>\n",
       "      <td>1-butanol</td>\n",
       "      <td>0.88</td>\n",
       "      <td>-10.940</td>\n",
       "      <td>-0.5422</td>\n",
       "      <td>3.5041</td>\n",
       "      <td>0.3141</td>\n",
       "      <td>1</td>\n",
       "      <td>14.4441</td>\n",
       "    </tr>\n",
       "    <tr>\n",
       "      <th>...</th>\n",
       "      <td>...</td>\n",
       "      <td>...</td>\n",
       "      <td>...</td>\n",
       "      <td>...</td>\n",
       "      <td>...</td>\n",
       "      <td>...</td>\n",
       "      <td>...</td>\n",
       "      <td>...</td>\n",
       "    </tr>\n",
       "    <tr>\n",
       "      <th>185</th>\n",
       "      <td>2-nitroaniline</td>\n",
       "      <td>1.85</td>\n",
       "      <td>-9.068</td>\n",
       "      <td>-0.6488</td>\n",
       "      <td>-0.7937</td>\n",
       "      <td>0.3510</td>\n",
       "      <td>2</td>\n",
       "      <td>8.2743</td>\n",
       "    </tr>\n",
       "    <tr>\n",
       "      <th>186</th>\n",
       "      <td>3-nitroaniline</td>\n",
       "      <td>1.37</td>\n",
       "      <td>-9.254</td>\n",
       "      <td>-0.9468</td>\n",
       "      <td>-0.9503</td>\n",
       "      <td>0.3922</td>\n",
       "      <td>2</td>\n",
       "      <td>8.3037</td>\n",
       "    </tr>\n",
       "    <tr>\n",
       "      <th>187</th>\n",
       "      <td>4-nitroaniline</td>\n",
       "      <td>1.39</td>\n",
       "      <td>-9.160</td>\n",
       "      <td>-0.6493</td>\n",
       "      <td>0.7050</td>\n",
       "      <td>0.3134</td>\n",
       "      <td>2</td>\n",
       "      <td>9.8650</td>\n",
       "    </tr>\n",
       "    <tr>\n",
       "      <th>188</th>\n",
       "      <td>2-chloro-4-nitroaniline</td>\n",
       "      <td>2.06</td>\n",
       "      <td>-9.256</td>\n",
       "      <td>-0.6434</td>\n",
       "      <td>-0.9066</td>\n",
       "      <td>0.3183</td>\n",
       "      <td>2</td>\n",
       "      <td>8.3494</td>\n",
       "    </tr>\n",
       "    <tr>\n",
       "      <th>189</th>\n",
       "      <td>4-ethoxy-2-nitroaniline</td>\n",
       "      <td>2.38</td>\n",
       "      <td>-8.994</td>\n",
       "      <td>-0.8070</td>\n",
       "      <td>-0.8747</td>\n",
       "      <td>0.3969</td>\n",
       "      <td>2</td>\n",
       "      <td>8.1193</td>\n",
       "    </tr>\n",
       "  </tbody>\n",
       "</table>\n",
       "<p>190 rows × 8 columns</p>\n",
       "</div>"
      ],
      "text/plain": [
       "                    Compound  log(Kow)   EHOMO      Q-   ELUMO      Q+  Class  \\\n",
       "0                   methanol     -0.77 -11.135 -0.5353  3.7775  0.3182      1   \n",
       "1                    ethanol     -0.31 -11.050 -0.5360  3.6513  0.3107      1   \n",
       "2                 1-propanol      0.25 -10.940 -0.5317  3.6324  0.3122      1   \n",
       "3                 2-propanol      0.05 -10.895 -0.5469  3.4925  0.3166      1   \n",
       "4                  1-butanol      0.88 -10.940 -0.5422  3.5041  0.3141      1   \n",
       "..                       ...       ...     ...     ...     ...     ...    ...   \n",
       "185           2-nitroaniline      1.85  -9.068 -0.6488 -0.7937  0.3510      2   \n",
       "186           3-nitroaniline      1.37  -9.254 -0.9468 -0.9503  0.3922      2   \n",
       "187           4-nitroaniline      1.39  -9.160 -0.6493  0.7050  0.3134      2   \n",
       "188  2-chloro-4-nitroaniline      2.06  -9.256 -0.6434 -0.9066  0.3183      2   \n",
       "189  4-ethoxy-2-nitroaniline      2.38  -8.994 -0.8070 -0.8747  0.3969      2   \n",
       "\n",
       "         Gap  \n",
       "0    14.9125  \n",
       "1    14.7013  \n",
       "2    14.5724  \n",
       "3    14.3875  \n",
       "4    14.4441  \n",
       "..       ...  \n",
       "185   8.2743  \n",
       "186   8.3037  \n",
       "187   9.8650  \n",
       "188   8.3494  \n",
       "189   8.1193  \n",
       "\n",
       "[190 rows x 8 columns]"
      ]
     },
     "execution_count": 2,
     "metadata": {},
     "output_type": "execute_result"
    }
   ],
   "source": [
    "df['Gap'] = df['ELUMO'] - df['EHOMO']\n",
    "df"
   ]
  },
  {
   "cell_type": "code",
   "execution_count": 3,
   "id": "9149f68d",
   "metadata": {},
   "outputs": [],
   "source": [
    "X = df[['Q-', 'Gap']].values\n",
    "y = df['Class'].values"
   ]
  },
  {
   "cell_type": "code",
   "execution_count": 4,
   "id": "0610e10e",
   "metadata": {},
   "outputs": [
    {
     "data": {
      "text/html": [
       "<style>#sk-container-id-1 {color: black;background-color: white;}#sk-container-id-1 pre{padding: 0;}#sk-container-id-1 div.sk-toggleable {background-color: white;}#sk-container-id-1 label.sk-toggleable__label {cursor: pointer;display: block;width: 100%;margin-bottom: 0;padding: 0.3em;box-sizing: border-box;text-align: center;}#sk-container-id-1 label.sk-toggleable__label-arrow:before {content: \"▸\";float: left;margin-right: 0.25em;color: #696969;}#sk-container-id-1 label.sk-toggleable__label-arrow:hover:before {color: black;}#sk-container-id-1 div.sk-estimator:hover label.sk-toggleable__label-arrow:before {color: black;}#sk-container-id-1 div.sk-toggleable__content {max-height: 0;max-width: 0;overflow: hidden;text-align: left;background-color: #f0f8ff;}#sk-container-id-1 div.sk-toggleable__content pre {margin: 0.2em;color: black;border-radius: 0.25em;background-color: #f0f8ff;}#sk-container-id-1 input.sk-toggleable__control:checked~div.sk-toggleable__content {max-height: 200px;max-width: 100%;overflow: auto;}#sk-container-id-1 input.sk-toggleable__control:checked~label.sk-toggleable__label-arrow:before {content: \"▾\";}#sk-container-id-1 div.sk-estimator input.sk-toggleable__control:checked~label.sk-toggleable__label {background-color: #d4ebff;}#sk-container-id-1 div.sk-label input.sk-toggleable__control:checked~label.sk-toggleable__label {background-color: #d4ebff;}#sk-container-id-1 input.sk-hidden--visually {border: 0;clip: rect(1px 1px 1px 1px);clip: rect(1px, 1px, 1px, 1px);height: 1px;margin: -1px;overflow: hidden;padding: 0;position: absolute;width: 1px;}#sk-container-id-1 div.sk-estimator {font-family: monospace;background-color: #f0f8ff;border: 1px dotted black;border-radius: 0.25em;box-sizing: border-box;margin-bottom: 0.5em;}#sk-container-id-1 div.sk-estimator:hover {background-color: #d4ebff;}#sk-container-id-1 div.sk-parallel-item::after {content: \"\";width: 100%;border-bottom: 1px solid gray;flex-grow: 1;}#sk-container-id-1 div.sk-label:hover label.sk-toggleable__label {background-color: #d4ebff;}#sk-container-id-1 div.sk-serial::before {content: \"\";position: absolute;border-left: 1px solid gray;box-sizing: border-box;top: 0;bottom: 0;left: 50%;z-index: 0;}#sk-container-id-1 div.sk-serial {display: flex;flex-direction: column;align-items: center;background-color: white;padding-right: 0.2em;padding-left: 0.2em;position: relative;}#sk-container-id-1 div.sk-item {position: relative;z-index: 1;}#sk-container-id-1 div.sk-parallel {display: flex;align-items: stretch;justify-content: center;background-color: white;position: relative;}#sk-container-id-1 div.sk-item::before, #sk-container-id-1 div.sk-parallel-item::before {content: \"\";position: absolute;border-left: 1px solid gray;box-sizing: border-box;top: 0;bottom: 0;left: 50%;z-index: -1;}#sk-container-id-1 div.sk-parallel-item {display: flex;flex-direction: column;z-index: 1;position: relative;background-color: white;}#sk-container-id-1 div.sk-parallel-item:first-child::after {align-self: flex-end;width: 50%;}#sk-container-id-1 div.sk-parallel-item:last-child::after {align-self: flex-start;width: 50%;}#sk-container-id-1 div.sk-parallel-item:only-child::after {width: 0;}#sk-container-id-1 div.sk-dashed-wrapped {border: 1px dashed gray;margin: 0 0.4em 0.5em 0.4em;box-sizing: border-box;padding-bottom: 0.4em;background-color: white;}#sk-container-id-1 div.sk-label label {font-family: monospace;font-weight: bold;display: inline-block;line-height: 1.2em;}#sk-container-id-1 div.sk-label-container {text-align: center;}#sk-container-id-1 div.sk-container {/* jupyter's `normalize.less` sets `[hidden] { display: none; }` but bootstrap.min.css set `[hidden] { display: none !important; }` so we also need the `!important` here to be able to override the default hidden behavior on the sphinx rendered scikit-learn.org. See: https://github.com/scikit-learn/scikit-learn/issues/21755 */display: inline-block !important;position: relative;}#sk-container-id-1 div.sk-text-repr-fallback {display: none;}</style><div id=\"sk-container-id-1\" class=\"sk-top-container\"><div class=\"sk-text-repr-fallback\"><pre>DecisionTreeClassifier()</pre><b>In a Jupyter environment, please rerun this cell to show the HTML representation or trust the notebook. <br />On GitHub, the HTML representation is unable to render, please try loading this page with nbviewer.org.</b></div><div class=\"sk-container\" hidden><div class=\"sk-item\"><div class=\"sk-estimator sk-toggleable\"><input class=\"sk-toggleable__control sk-hidden--visually\" id=\"sk-estimator-id-1\" type=\"checkbox\" checked><label for=\"sk-estimator-id-1\" class=\"sk-toggleable__label sk-toggleable__label-arrow\">DecisionTreeClassifier</label><div class=\"sk-toggleable__content\"><pre>DecisionTreeClassifier()</pre></div></div></div></div></div>"
      ],
      "text/plain": [
       "DecisionTreeClassifier()"
      ]
     },
     "execution_count": 4,
     "metadata": {},
     "output_type": "execute_result"
    }
   ],
   "source": [
    "from sklearn.tree import DecisionTreeClassifier\n",
    "\n",
    "clf_tree = DecisionTreeClassifier()\n",
    "clf_tree.fit(X, y)"
   ]
  },
  {
   "cell_type": "code",
   "execution_count": 12,
   "id": "2109eeb5",
   "metadata": {},
   "outputs": [
    {
     "data": {
      "image/png": "[encoded data removed]",
      "text/plain": [
       "<Figure size 360x360 with 1 Axes>"
      ]
     },
     "metadata": {
      "needs_background": "light"
     },
     "output_type": "display_data"
    }
   ],
   "source": [
    "import matplotlib.pyplot as plt\n",
    "\n",
    "plt.figure(figsize=(5, 5))\n",
    "x1 = df.iloc[:114,3]#取0-113行，第3列\n",
    "y1 = df.iloc[:114,7]\n",
    "x2 = df.iloc[114:,3]\n",
    "y2 = df.iloc[114:,7]\n",
    "plt.scatter(x1,y1,c='g',marker='s',s=25)\n",
    "plt.scatter(x2,y2,c='r', marker='^', s=25)\n",
    "plt.show()"
   ]
  },
  {
   "cell_type": "code",
   "execution_count": 8,
   "id": "5fb7f6e8",
   "metadata": {},
   "outputs": [],
   "source": [
    "import numpy as np\n",
    "\n",
    "xx, yy = np.meshgrid(np.arange(-1.0, 0.1, 0.01), np.arange(8, 15.2, 0.01))\n",
    "coords = np.stack((xx.reshape(-1), yy.reshape(-1)), axis = 1) #stack函数用于拼叠数组，axis=1按列，axis=0按行"
   ]
  },
  {
   "cell_type": "code",
   "execution_count": 46,
   "id": "f562af0f",
   "metadata": {},
   "outputs": [
    {
     "data": {
      "text/plain": [
       "array([[-1.  , -0.99, -0.98, ...,  0.07,  0.08,  0.09],\n",
       "       [-1.  , -0.99, -0.98, ...,  0.07,  0.08,  0.09],\n",
       "       [-1.  , -0.99, -0.98, ...,  0.07,  0.08,  0.09],\n",
       "       ...,\n",
       "       [-1.  , -0.99, -0.98, ...,  0.07,  0.08,  0.09],\n",
       "       [-1.  , -0.99, -0.98, ...,  0.07,  0.08,  0.09],\n",
       "       [-1.  , -0.99, -0.98, ...,  0.07,  0.08,  0.09]])"
      ]
     },
     "execution_count": 46,
     "metadata": {},
     "output_type": "execute_result"
    }
   ],
   "source": [
    "xx"
   ]
  },
  {
   "cell_type": "code",
   "execution_count": 47,
   "id": "033582ba",
   "metadata": {},
   "outputs": [
    {
     "data": {
      "text/plain": [
       "array([[ 8.  ,  8.  ,  8.  , ...,  8.  ,  8.  ,  8.  ],\n",
       "       [ 8.01,  8.01,  8.01, ...,  8.01,  8.01,  8.01],\n",
       "       [ 8.02,  8.02,  8.02, ...,  8.02,  8.02,  8.02],\n",
       "       ...,\n",
       "       [15.17, 15.17, 15.17, ..., 15.17, 15.17, 15.17],\n",
       "       [15.18, 15.18, 15.18, ..., 15.18, 15.18, 15.18],\n",
       "       [15.19, 15.19, 15.19, ..., 15.19, 15.19, 15.19]])"
      ]
     },
     "execution_count": 47,
     "metadata": {},
     "output_type": "execute_result"
    }
   ],
   "source": [
    "yy"
   ]
  },
  {
   "cell_type": "code",
   "execution_count": 9,
   "id": "2c5bc119",
   "metadata": {},
   "outputs": [
    {
     "data": {
      "text/plain": [
       "array([[-1.  ,  8.  ],\n",
       "       [-0.99,  8.  ],\n",
       "       [-0.98,  8.  ],\n",
       "       ...,\n",
       "       [ 0.07, 15.19],\n",
       "       [ 0.08, 15.19],\n",
       "       [ 0.09, 15.19]])"
      ]
     },
     "execution_count": 9,
     "metadata": {},
     "output_type": "execute_result"
    }
   ],
   "source": [
    "coords"
   ]
  },
  {
   "cell_type": "code",
   "execution_count": 15,
   "id": "c0c11528",
   "metadata": {},
   "outputs": [
    {
     "data": {
      "text/plain": [
       "(array([[0, 1, 2, 3, 4],\n",
       "        [0, 1, 2, 3, 4],\n",
       "        [0, 1, 2, 3, 4],\n",
       "        [0, 1, 2, 3, 4],\n",
       "        [0, 1, 2, 3, 4]]),\n",
       " array([[0, 0, 0, 0, 0],\n",
       "        [1, 1, 1, 1, 1],\n",
       "        [2, 2, 2, 2, 2],\n",
       "        [3, 3, 3, 3, 3],\n",
       "        [4, 4, 4, 4, 4]]))"
      ]
     },
     "execution_count": 15,
     "metadata": {},
     "output_type": "execute_result"
    }
   ],
   "source": [
    "x0, y0 = np.meshgrid(np.arange(0, 5, 1), np.arange(0, 5, 1))\n",
    "x0, y0"
   ]
  },
  {
   "cell_type": "code",
   "execution_count": 16,
   "id": "0cffcc4f",
   "metadata": {},
   "outputs": [
    {
     "data": {
      "text/plain": [
       "<function matplotlib.pyplot.show(close=None, block=None)>"
      ]
     },
     "execution_count": 16,
     "metadata": {},
     "output_type": "execute_result"
    },
    {
     "data": {
      "image/png": "[encoded data removed]",
      "text/plain": [
       "<Figure size 216x216 with 1 Axes>"
      ]
     },
     "metadata": {
      "needs_background": "light"
     },
     "output_type": "display_data"
    }
   ],
   "source": [
    "plt.figure(figsize = (3, 3))\n",
    "plt.scatter(x0, y0)\n",
    "plt.show"
   ]
  },
  {
   "cell_type": "code",
   "execution_count": 18,
   "id": "10ce14eb",
   "metadata": {},
   "outputs": [
    {
     "name": "stdout",
     "output_type": "stream",
     "text": [
      "[[1 4]\n",
      " [2 5]\n",
      " [3 6]]\n",
      "[[1 2 3]\n",
      " [4 5 6]]\n"
     ]
    }
   ],
   "source": [
    "a = np.array([1, 2, 3])\n",
    "b = np.array([4 ,5 ,6])\n",
    "print(np.stack((a, b), axis = 1))\n",
    "print(np.stack((a, b), axis = 0))"
   ]
  },
  {
   "cell_type": "code",
   "execution_count": 38,
   "id": "82a6da7a",
   "metadata": {},
   "outputs": [
    {
     "data": {
      "text/plain": [
       "array([2, 2, 2, ..., 1, 1, 1], dtype=int64)"
      ]
     },
     "execution_count": 38,
     "metadata": {},
     "output_type": "execute_result"
    }
   ],
   "source": [
    "Z = clf_tree.predict(coords)\n",
    "Z"
   ]
  },
  {
   "cell_type": "code",
   "execution_count": 39,
   "id": "342901dd",
   "metadata": {},
   "outputs": [
    {
     "data": {
      "text/plain": [
       "array([[2, 2, 2, ..., 1, 1, 1],\n",
       "       [2, 2, 2, ..., 1, 1, 1],\n",
       "       [2, 2, 2, ..., 1, 1, 1],\n",
       "       ...,\n",
       "       [2, 2, 2, ..., 1, 1, 1],\n",
       "       [2, 2, 2, ..., 1, 1, 1],\n",
       "       [2, 2, 2, ..., 1, 1, 1]], dtype=int64)"
      ]
     },
     "execution_count": 39,
     "metadata": {},
     "output_type": "execute_result"
    }
   ],
   "source": [
    "Z = Z.reshape(xx.shape)  #Z是一维数组，xx是二维数组，这里是把Z按照xx的维度划分，后面上色需要xx,yy,Z的维度一样\n",
    "Z"
   ]
  },
  {
   "cell_type": "code",
   "execution_count": 33,
   "id": "4ec44a95",
   "metadata": {},
   "outputs": [],
   "source": [
    "from matplotlib.colors import ListedColormap\n",
    "\n",
    "def plot_res(xx, yy,Z):\n",
    "    light_rgb = ListedColormap(['#AAFFAA', '#FFAAAA'])\n",
    "    plt.figure(figsize = (5, 5))\n",
    "    plt.pcolormesh(xx, yy, Z, shading='auto', cmap = light_rgb)\n",
    "    plt.scatter(x1,y1,c='g',marker='s',s=25)\n",
    "    plt.scatter(x2,y2,c='r', marker='^', s=25)\n",
    "    plt.show()"
   ]
  },
  {
   "cell_type": "code",
   "execution_count": 34,
   "id": "e80e005e",
   "metadata": {},
   "outputs": [
    {
     "data": {
      "image/png": "[encoded data removed]",
      "text/plain": [
       "<Figure size 360x360 with 1 Axes>"
      ]
     },
     "metadata": {
      "needs_background": "light"
     },
     "output_type": "display_data"
    }
   ],
   "source": [
    "plot_res(xx, yy, Z)"
   ]
  },
  {
   "cell_type": "code",
   "execution_count": 40,
   "id": "277c7fde",
   "metadata": {},
   "outputs": [
    {
     "data": {
      "text/html": [
       "<style>#sk-container-id-2 {color: black;background-color: white;}#sk-container-id-2 pre{padding: 0;}#sk-container-id-2 div.sk-toggleable {background-color: white;}#sk-container-id-2 label.sk-toggleable__label {cursor: pointer;display: block;width: 100%;margin-bottom: 0;padding: 0.3em;box-sizing: border-box;text-align: center;}#sk-container-id-2 label.sk-toggleable__label-arrow:before {content: \"▸\";float: left;margin-right: 0.25em;color: #696969;}#sk-container-id-2 label.sk-toggleable__label-arrow:hover:before {color: black;}#sk-container-id-2 div.sk-estimator:hover label.sk-toggleable__label-arrow:before {color: black;}#sk-container-id-2 div.sk-toggleable__content {max-height: 0;max-width: 0;overflow: hidden;text-align: left;background-color: #f0f8ff;}#sk-container-id-2 div.sk-toggleable__content pre {margin: 0.2em;color: black;border-radius: 0.25em;background-color: #f0f8ff;}#sk-container-id-2 input.sk-toggleable__control:checked~div.sk-toggleable__content {max-height: 200px;max-width: 100%;overflow: auto;}#sk-container-id-2 input.sk-toggleable__control:checked~label.sk-toggleable__label-arrow:before {content: \"▾\";}#sk-container-id-2 div.sk-estimator input.sk-toggleable__control:checked~label.sk-toggleable__label {background-color: #d4ebff;}#sk-container-id-2 div.sk-label input.sk-toggleable__control:checked~label.sk-toggleable__label {background-color: #d4ebff;}#sk-container-id-2 input.sk-hidden--visually {border: 0;clip: rect(1px 1px 1px 1px);clip: rect(1px, 1px, 1px, 1px);height: 1px;margin: -1px;overflow: hidden;padding: 0;position: absolute;width: 1px;}#sk-container-id-2 div.sk-estimator {font-family: monospace;background-color: #f0f8ff;border: 1px dotted black;border-radius: 0.25em;box-sizing: border-box;margin-bottom: 0.5em;}#sk-container-id-2 div.sk-estimator:hover {background-color: #d4ebff;}#sk-container-id-2 div.sk-parallel-item::after {content: \"\";width: 100%;border-bottom: 1px solid gray;flex-grow: 1;}#sk-container-id-2 div.sk-label:hover label.sk-toggleable__label {background-color: #d4ebff;}#sk-container-id-2 div.sk-serial::before {content: \"\";position: absolute;border-left: 1px solid gray;box-sizing: border-box;top: 0;bottom: 0;left: 50%;z-index: 0;}#sk-container-id-2 div.sk-serial {display: flex;flex-direction: column;align-items: center;background-color: white;padding-right: 0.2em;padding-left: 0.2em;position: relative;}#sk-container-id-2 div.sk-item {position: relative;z-index: 1;}#sk-container-id-2 div.sk-parallel {display: flex;align-items: stretch;justify-content: center;background-color: white;position: relative;}#sk-container-id-2 div.sk-item::before, #sk-container-id-2 div.sk-parallel-item::before {content: \"\";position: absolute;border-left: 1px solid gray;box-sizing: border-box;top: 0;bottom: 0;left: 50%;z-index: -1;}#sk-container-id-2 div.sk-parallel-item {display: flex;flex-direction: column;z-index: 1;position: relative;background-color: white;}#sk-container-id-2 div.sk-parallel-item:first-child::after {align-self: flex-end;width: 50%;}#sk-container-id-2 div.sk-parallel-item:last-child::after {align-self: flex-start;width: 50%;}#sk-container-id-2 div.sk-parallel-item:only-child::after {width: 0;}#sk-container-id-2 div.sk-dashed-wrapped {border: 1px dashed gray;margin: 0 0.4em 0.5em 0.4em;box-sizing: border-box;padding-bottom: 0.4em;background-color: white;}#sk-container-id-2 div.sk-label label {font-family: monospace;font-weight: bold;display: inline-block;line-height: 1.2em;}#sk-container-id-2 div.sk-label-container {text-align: center;}#sk-container-id-2 div.sk-container {/* jupyter's `normalize.less` sets `[hidden] { display: none; }` but bootstrap.min.css set `[hidden] { display: none !important; }` so we also need the `!important` here to be able to override the default hidden behavior on the sphinx rendered scikit-learn.org. See: https://github.com/scikit-learn/scikit-learn/issues/21755 */display: inline-block !important;position: relative;}#sk-container-id-2 div.sk-text-repr-fallback {display: none;}</style><div id=\"sk-container-id-2\" class=\"sk-top-container\"><div class=\"sk-text-repr-fallback\"><pre>DecisionTreeClassifier(criterion=&#x27;entropy&#x27;)</pre><b>In a Jupyter environment, please rerun this cell to show the HTML representation or trust the notebook. <br />On GitHub, the HTML representation is unable to render, please try loading this page with nbviewer.org.</b></div><div class=\"sk-container\" hidden><div class=\"sk-item\"><div class=\"sk-estimator sk-toggleable\"><input class=\"sk-toggleable__control sk-hidden--visually\" id=\"sk-estimator-id-2\" type=\"checkbox\" checked><label for=\"sk-estimator-id-2\" class=\"sk-toggleable__label sk-toggleable__label-arrow\">DecisionTreeClassifier</label><div class=\"sk-toggleable__content\"><pre>DecisionTreeClassifier(criterion=&#x27;entropy&#x27;)</pre></div></div></div></div></div>"
      ],
      "text/plain": [
       "DecisionTreeClassifier(criterion='entropy')"
      ]
     },
     "execution_count": 40,
     "metadata": {},
     "output_type": "execute_result"
    }
   ],
   "source": [
    "clf_tree2 = DecisionTreeClassifier(criterion = 'entropy') #ID3算法\n",
    "clf_tree2.fit(X, y)"
   ]
  },
  {
   "cell_type": "code",
   "execution_count": 42,
   "id": "f0f1b765",
   "metadata": {},
   "outputs": [
    {
     "data": {
      "image/png": "[encoded data removed]",
      "text/plain": [
       "<Figure size 360x360 with 1 Axes>"
      ]
     },
     "metadata": {
      "needs_background": "light"
     },
     "output_type": "display_data"
    }
   ],
   "source": [
    "Z = clf_tree2.predict(coords)\n",
    "Z = Z.reshape(xx.shape)\n",
    "plot_res(xx, yy, Z)"
   ]
  },
  {
   "cell_type": "code",
   "execution_count": 43,
   "id": "c8ab676d",
   "metadata": {},
   "outputs": [
    {
     "data": {
      "text/html": [
       "<style>#sk-container-id-3 {color: black;background-color: white;}#sk-container-id-3 pre{padding: 0;}#sk-container-id-3 div.sk-toggleable {background-color: white;}#sk-container-id-3 label.sk-toggleable__label {cursor: pointer;display: block;width: 100%;margin-bottom: 0;padding: 0.3em;box-sizing: border-box;text-align: center;}#sk-container-id-3 label.sk-toggleable__label-arrow:before {content: \"▸\";float: left;margin-right: 0.25em;color: #696969;}#sk-container-id-3 label.sk-toggleable__label-arrow:hover:before {color: black;}#sk-container-id-3 div.sk-estimator:hover label.sk-toggleable__label-arrow:before {color: black;}#sk-container-id-3 div.sk-toggleable__content {max-height: 0;max-width: 0;overflow: hidden;text-align: left;background-color: #f0f8ff;}#sk-container-id-3 div.sk-toggleable__content pre {margin: 0.2em;color: black;border-radius: 0.25em;background-color: #f0f8ff;}#sk-container-id-3 input.sk-toggleable__control:checked~div.sk-toggleable__content {max-height: 200px;max-width: 100%;overflow: auto;}#sk-container-id-3 input.sk-toggleable__control:checked~label.sk-toggleable__label-arrow:before {content: \"▾\";}#sk-container-id-3 div.sk-estimator input.sk-toggleable__control:checked~label.sk-toggleable__label {background-color: #d4ebff;}#sk-container-id-3 div.sk-label input.sk-toggleable__control:checked~label.sk-toggleable__label {background-color: #d4ebff;}#sk-container-id-3 input.sk-hidden--visually {border: 0;clip: rect(1px 1px 1px 1px);clip: rect(1px, 1px, 1px, 1px);height: 1px;margin: -1px;overflow: hidden;padding: 0;position: absolute;width: 1px;}#sk-container-id-3 div.sk-estimator {font-family: monospace;background-color: #f0f8ff;border: 1px dotted black;border-radius: 0.25em;box-sizing: border-box;margin-bottom: 0.5em;}#sk-container-id-3 div.sk-estimator:hover {background-color: #d4ebff;}#sk-container-id-3 div.sk-parallel-item::after {content: \"\";width: 100%;border-bottom: 1px solid gray;flex-grow: 1;}#sk-container-id-3 div.sk-label:hover label.sk-toggleable__label {background-color: #d4ebff;}#sk-container-id-3 div.sk-serial::before {content: \"\";position: absolute;border-left: 1px solid gray;box-sizing: border-box;top: 0;bottom: 0;left: 50%;z-index: 0;}#sk-container-id-3 div.sk-serial {display: flex;flex-direction: column;align-items: center;background-color: white;padding-right: 0.2em;padding-left: 0.2em;position: relative;}#sk-container-id-3 div.sk-item {position: relative;z-index: 1;}#sk-container-id-3 div.sk-parallel {display: flex;align-items: stretch;justify-content: center;background-color: white;position: relative;}#sk-container-id-3 div.sk-item::before, #sk-container-id-3 div.sk-parallel-item::before {content: \"\";position: absolute;border-left: 1px solid gray;box-sizing: border-box;top: 0;bottom: 0;left: 50%;z-index: -1;}#sk-container-id-3 div.sk-parallel-item {display: flex;flex-direction: column;z-index: 1;position: relative;background-color: white;}#sk-container-id-3 div.sk-parallel-item:first-child::after {align-self: flex-end;width: 50%;}#sk-container-id-3 div.sk-parallel-item:last-child::after {align-self: flex-start;width: 50%;}#sk-container-id-3 div.sk-parallel-item:only-child::after {width: 0;}#sk-container-id-3 div.sk-dashed-wrapped {border: 1px dashed gray;margin: 0 0.4em 0.5em 0.4em;box-sizing: border-box;padding-bottom: 0.4em;background-color: white;}#sk-container-id-3 div.sk-label label {font-family: monospace;font-weight: bold;display: inline-block;line-height: 1.2em;}#sk-container-id-3 div.sk-label-container {text-align: center;}#sk-container-id-3 div.sk-container {/* jupyter's `normalize.less` sets `[hidden] { display: none; }` but bootstrap.min.css set `[hidden] { display: none !important; }` so we also need the `!important` here to be able to override the default hidden behavior on the sphinx rendered scikit-learn.org. See: https://github.com/scikit-learn/scikit-learn/issues/21755 */display: inline-block !important;position: relative;}#sk-container-id-3 div.sk-text-repr-fallback {display: none;}</style><div id=\"sk-container-id-3\" class=\"sk-top-container\"><div class=\"sk-text-repr-fallback\"><pre>DecisionTreeClassifier(max_depth=2)</pre><b>In a Jupyter environment, please rerun this cell to show the HTML representation or trust the notebook. <br />On GitHub, the HTML representation is unable to render, please try loading this page with nbviewer.org.</b></div><div class=\"sk-container\" hidden><div class=\"sk-item\"><div class=\"sk-estimator sk-toggleable\"><input class=\"sk-toggleable__control sk-hidden--visually\" id=\"sk-estimator-id-3\" type=\"checkbox\" checked><label for=\"sk-estimator-id-3\" class=\"sk-toggleable__label sk-toggleable__label-arrow\">DecisionTreeClassifier</label><div class=\"sk-toggleable__content\"><pre>DecisionTreeClassifier(max_depth=2)</pre></div></div></div></div></div>"
      ],
      "text/plain": [
       "DecisionTreeClassifier(max_depth=2)"
      ]
     },
     "execution_count": 43,
     "metadata": {},
     "output_type": "execute_result"
    }
   ],
   "source": [
    "clf_tree3 = DecisionTreeClassifier(max_depth = 2)\n",
    "clf_tree3.fit(X, y)"
   ]
  },
  {
   "cell_type": "code",
   "execution_count": 44,
   "id": "bdfb624a",
   "metadata": {},
   "outputs": [
    {
     "data": {
      "image/png": "[encoded data removed]",
      "text/plain": [
       "<Figure size 360x360 with 1 Axes>"
      ]
     },
     "metadata": {
      "needs_background": "light"
     },
     "output_type": "display_data"
    }
   ],
   "source": [
    "Z = clf_tree3.predict(coords)\n",
    "Z = Z.reshape(xx.shape)\n",
    "plot_res(xx, yy, Z)"
   ]
  },
  {
   "cell_type": "code",
   "execution_count": 49,
   "id": "9f9c0293",
   "metadata": {},
   "outputs": [
    {
     "data": {
      "text/html": [
       "<style>#sk-container-id-4 {color: black;background-color: white;}#sk-container-id-4 pre{padding: 0;}#sk-container-id-4 div.sk-toggleable {background-color: white;}#sk-container-id-4 label.sk-toggleable__label {cursor: pointer;display: block;width: 100%;margin-bottom: 0;padding: 0.3em;box-sizing: border-box;text-align: center;}#sk-container-id-4 label.sk-toggleable__label-arrow:before {content: \"▸\";float: left;margin-right: 0.25em;color: #696969;}#sk-container-id-4 label.sk-toggleable__label-arrow:hover:before {color: black;}#sk-container-id-4 div.sk-estimator:hover label.sk-toggleable__label-arrow:before {color: black;}#sk-container-id-4 div.sk-toggleable__content {max-height: 0;max-width: 0;overflow: hidden;text-align: left;background-color: #f0f8ff;}#sk-container-id-4 div.sk-toggleable__content pre {margin: 0.2em;color: black;border-radius: 0.25em;background-color: #f0f8ff;}#sk-container-id-4 input.sk-toggleable__control:checked~div.sk-toggleable__content {max-height: 200px;max-width: 100%;overflow: auto;}#sk-container-id-4 input.sk-toggleable__control:checked~label.sk-toggleable__label-arrow:before {content: \"▾\";}#sk-container-id-4 div.sk-estimator input.sk-toggleable__control:checked~label.sk-toggleable__label {background-color: #d4ebff;}#sk-container-id-4 div.sk-label input.sk-toggleable__control:checked~label.sk-toggleable__label {background-color: #d4ebff;}#sk-container-id-4 input.sk-hidden--visually {border: 0;clip: rect(1px 1px 1px 1px);clip: rect(1px, 1px, 1px, 1px);height: 1px;margin: -1px;overflow: hidden;padding: 0;position: absolute;width: 1px;}#sk-container-id-4 div.sk-estimator {font-family: monospace;background-color: #f0f8ff;border: 1px dotted black;border-radius: 0.25em;box-sizing: border-box;margin-bottom: 0.5em;}#sk-container-id-4 div.sk-estimator:hover {background-color: #d4ebff;}#sk-container-id-4 div.sk-parallel-item::after {content: \"\";width: 100%;border-bottom: 1px solid gray;flex-grow: 1;}#sk-container-id-4 div.sk-label:hover label.sk-toggleable__label {background-color: #d4ebff;}#sk-container-id-4 div.sk-serial::before {content: \"\";position: absolute;border-left: 1px solid gray;box-sizing: border-box;top: 0;bottom: 0;left: 50%;z-index: 0;}#sk-container-id-4 div.sk-serial {display: flex;flex-direction: column;align-items: center;background-color: white;padding-right: 0.2em;padding-left: 0.2em;position: relative;}#sk-container-id-4 div.sk-item {position: relative;z-index: 1;}#sk-container-id-4 div.sk-parallel {display: flex;align-items: stretch;justify-content: center;background-color: white;position: relative;}#sk-container-id-4 div.sk-item::before, #sk-container-id-4 div.sk-parallel-item::before {content: \"\";position: absolute;border-left: 1px solid gray;box-sizing: border-box;top: 0;bottom: 0;left: 50%;z-index: -1;}#sk-container-id-4 div.sk-parallel-item {display: flex;flex-direction: column;z-index: 1;position: relative;background-color: white;}#sk-container-id-4 div.sk-parallel-item:first-child::after {align-self: flex-end;width: 50%;}#sk-container-id-4 div.sk-parallel-item:last-child::after {align-self: flex-start;width: 50%;}#sk-container-id-4 div.sk-parallel-item:only-child::after {width: 0;}#sk-container-id-4 div.sk-dashed-wrapped {border: 1px dashed gray;margin: 0 0.4em 0.5em 0.4em;box-sizing: border-box;padding-bottom: 0.4em;background-color: white;}#sk-container-id-4 div.sk-label label {font-family: monospace;font-weight: bold;display: inline-block;line-height: 1.2em;}#sk-container-id-4 div.sk-label-container {text-align: center;}#sk-container-id-4 div.sk-container {/* jupyter's `normalize.less` sets `[hidden] { display: none; }` but bootstrap.min.css set `[hidden] { display: none !important; }` so we also need the `!important` here to be able to override the default hidden behavior on the sphinx rendered scikit-learn.org. See: https://github.com/scikit-learn/scikit-learn/issues/21755 */display: inline-block !important;position: relative;}#sk-container-id-4 div.sk-text-repr-fallback {display: none;}</style><div id=\"sk-container-id-4\" class=\"sk-top-container\"><div class=\"sk-text-repr-fallback\"><pre>GaussianNB()</pre><b>In a Jupyter environment, please rerun this cell to show the HTML representation or trust the notebook. <br />On GitHub, the HTML representation is unable to render, please try loading this page with nbviewer.org.</b></div><div class=\"sk-container\" hidden><div class=\"sk-item\"><div class=\"sk-estimator sk-toggleable\"><input class=\"sk-toggleable__control sk-hidden--visually\" id=\"sk-estimator-id-4\" type=\"checkbox\" checked><label for=\"sk-estimator-id-4\" class=\"sk-toggleable__label sk-toggleable__label-arrow\">GaussianNB</label><div class=\"sk-toggleable__content\"><pre>GaussianNB()</pre></div></div></div></div></div>"
      ],
      "text/plain": [
       "GaussianNB()"
      ]
     },
     "execution_count": 49,
     "metadata": {},
     "output_type": "execute_result"
    }
   ],
   "source": [
    "from sklearn.naive_bayes import GaussianNB\n",
    "\n",
    "clf_nb = GaussianNB()\n",
    "clf_nb.fit(X, y)"
   ]
  },
  {
   "cell_type": "code",
   "execution_count": 51,
   "id": "9cc6bdfa",
   "metadata": {},
   "outputs": [
    {
     "data": {
      "image/png": "[encoded data removed]",
      "text/plain": [
       "<Figure size 360x360 with 1 Axes>"
      ]
     },
     "metadata": {
      "needs_background": "light"
     },
     "output_type": "display_data"
    }
   ],
   "source": [
    "Z = clf_nb.predict(coords)\n",
    "Z = Z.reshape(xx.shape)\n",
    "plot_res(xx, yy, Z)"
   ]
  },
  {
   "cell_type": "code",
   "execution_count": 52,
   "id": "936f36ee",
   "metadata": {},
   "outputs": [],
   "source": [
    "from sklearn.metrics import accuracy_score"
   ]
  },
  {
   "cell_type": "code",
   "execution_count": 55,
   "id": "dbe6c470",
   "metadata": {},
   "outputs": [
    {
     "data": {
      "text/plain": [
       "0.75"
      ]
     },
     "execution_count": 55,
     "metadata": {},
     "output_type": "execute_result"
    }
   ],
   "source": [
    "y_true = [0, 1, 2, 3]\n",
    "y_pred = [0, 1, 2, 2]\n",
    "\n",
    "accuracy_score(y_true, y_pred)"
   ]
  },
  {
   "cell_type": "code",
   "execution_count": 56,
   "id": "d0b32bbf",
   "metadata": {},
   "outputs": [
    {
     "data": {
      "text/plain": [
       "1.0"
      ]
     },
     "execution_count": 56,
     "metadata": {},
     "output_type": "execute_result"
    }
   ],
   "source": [
    "accuracy_score(y, clf_tree.predict(X)) #基尼系数"
   ]
  },
  {
   "cell_type": "code",
   "execution_count": 57,
   "id": "9c577746",
   "metadata": {},
   "outputs": [
    {
     "data": {
      "text/plain": [
       "1.0"
      ]
     },
     "execution_count": 57,
     "metadata": {},
     "output_type": "execute_result"
    }
   ],
   "source": [
    "accuracy_score(y, clf_tree2.predict(X)) #熵"
   ]
  },
  {
   "cell_type": "code",
   "execution_count": 58,
   "id": "54a039ac",
   "metadata": {},
   "outputs": [
    {
     "data": {
      "text/plain": [
       "0.968421052631579"
      ]
     },
     "execution_count": 58,
     "metadata": {},
     "output_type": "execute_result"
    }
   ],
   "source": [
    "accuracy_score(y, clf_tree3.predict(X)) #熵增益"
   ]
  },
  {
   "cell_type": "code",
   "execution_count": 59,
   "id": "bf56891b",
   "metadata": {},
   "outputs": [
    {
     "data": {
      "text/plain": [
       "0.9473684210526315"
      ]
     },
     "execution_count": 59,
     "metadata": {},
     "output_type": "execute_result"
    }
   ],
   "source": [
    "accuracy_score(y, clf_nb.predict(X)) #贝叶斯"
   ]
  },
  {
   "cell_type": "markdown",
   "id": "a6664428",
   "metadata": {},
   "source": [
    "# 留出法"
   ]
  },
  {
   "cell_type": "code",
   "execution_count": 60,
   "id": "1b646278",
   "metadata": {},
   "outputs": [
    {
     "data": {
      "text/plain": [
       "190"
      ]
     },
     "execution_count": 60,
     "metadata": {},
     "output_type": "execute_result"
    }
   ],
   "source": [
    "len(X)"
   ]
  },
  {
   "cell_type": "code",
   "execution_count": 65,
   "id": "1d7e2255",
   "metadata": {},
   "outputs": [],
   "source": [
    "from sklearn.utils import shuffle\n",
    "X_r, y_r = shuffle(X, y)\n",
    "X_train, y_train = X_r[:-40, :], y_r[:-40]\n",
    "X_test, y_test = X_r[-40:, :], y_r[-40:]"
   ]
  },
  {
   "cell_type": "markdown",
   "id": "de89aa2a",
   "metadata": {},
   "source": [
    "cart树"
   ]
  },
  {
   "cell_type": "code",
   "execution_count": 76,
   "id": "bf45a3dd",
   "metadata": {
    "scrolled": true
   },
   "outputs": [
    {
     "data": {
      "text/plain": [
       "0.975"
      ]
     },
     "execution_count": 76,
     "metadata": {},
     "output_type": "execute_result"
    }
   ],
   "source": [
    "clf_tree.fit(X_train, y_train)\n",
    "accuracy_score(y_test, clf_tree.predict(X_test))"
   ]
  },
  {
   "cell_type": "markdown",
   "id": "5357d0eb",
   "metadata": {},
   "source": [
    "ID3"
   ]
  },
  {
   "cell_type": "code",
   "execution_count": 77,
   "id": "11ef26a5",
   "metadata": {},
   "outputs": [
    {
     "data": {
      "text/plain": [
       "0.975"
      ]
     },
     "execution_count": 77,
     "metadata": {},
     "output_type": "execute_result"
    }
   ],
   "source": [
    "clf_tree2.fit(X_train, y_train)\n",
    "accuracy_score(y_test, clf_tree2.predict(X_test))"
   ]
  },
  {
   "cell_type": "markdown",
   "id": "0e66c095",
   "metadata": {},
   "source": [
    "2层cart"
   ]
  },
  {
   "cell_type": "code",
   "execution_count": 78,
   "id": "ed6458d2",
   "metadata": {},
   "outputs": [
    {
     "data": {
      "text/plain": [
       "0.975"
      ]
     },
     "execution_count": 78,
     "metadata": {},
     "output_type": "execute_result"
    }
   ],
   "source": [
    "clf_tree3.fit(X_train, y_train)\n",
    "accuracy_score(y_test, clf_tree3.predict(X_test))"
   ]
  },
  {
   "cell_type": "markdown",
   "id": "c60261a2",
   "metadata": {},
   "source": [
    "贝叶斯"
   ]
  },
  {
   "cell_type": "code",
   "execution_count": 79,
   "id": "10703cf2",
   "metadata": {},
   "outputs": [
    {
     "data": {
      "text/plain": [
       "0.925"
      ]
     },
     "execution_count": 79,
     "metadata": {},
     "output_type": "execute_result"
    }
   ],
   "source": [
    "clf_nb.fit(X_train, y_train)\n",
    "accuracy_score(y_test, clf_nb.predict(X_test))"
   ]
  },
  {
   "cell_type": "markdown",
   "id": "9c1b125f",
   "metadata": {},
   "source": [
    "# 交叉验证"
   ]
  },
  {
   "cell_type": "code",
   "execution_count": 80,
   "id": "cbd2b000",
   "metadata": {},
   "outputs": [
    {
     "name": "stdout",
     "output_type": "stream",
     "text": [
      "Fold: 10, mean accuracy: 0.958\n"
     ]
    }
   ],
   "source": [
    "from sklearn.model_selection import cross_val_score"
   ]
  },
  {
   "cell_type": "markdown",
   "id": "7ebeeec2",
   "metadata": {},
   "source": [
    "cart树"
   ]
  },
  {
   "cell_type": "code",
   "execution_count": 85,
   "id": "293518aa",
   "metadata": {},
   "outputs": [
    {
     "name": "stdout",
     "output_type": "stream",
     "text": [
      "Fold: 10, mean accuracy: 0.953\n"
     ]
    }
   ],
   "source": [
    "acc = cross_val_score(clf_tree, X, y, cv = 10)\n",
    "print('Fold: %i, mean accuracy: %.3f' % (len(acc), np.mean(acc)))"
   ]
  },
  {
   "cell_type": "markdown",
   "id": "8c0d95a8",
   "metadata": {},
   "source": [
    "ID3"
   ]
  },
  {
   "cell_type": "code",
   "execution_count": 86,
   "id": "e74615d1",
   "metadata": {},
   "outputs": [
    {
     "name": "stdout",
     "output_type": "stream",
     "text": [
      "Fold: 10, mean accuracy: 0.947\n"
     ]
    }
   ],
   "source": [
    "acc = cross_val_score(clf_tree2, X, y, cv = 10)\n",
    "print('Fold: %i, mean accuracy: %.3f' % (len(acc), np.mean(acc)))"
   ]
  },
  {
   "cell_type": "markdown",
   "id": "b74c90cf",
   "metadata": {},
   "source": [
    "2层"
   ]
  },
  {
   "cell_type": "code",
   "execution_count": 87,
   "id": "8fcd5724",
   "metadata": {},
   "outputs": [
    {
     "name": "stdout",
     "output_type": "stream",
     "text": [
      "Fold: 10, mean accuracy: 0.958\n"
     ]
    }
   ],
   "source": [
    "acc = cross_val_score(clf_tree3, X, y, cv = 10)\n",
    "print('Fold: %i, mean accuracy: %.3f' % (len(acc), np.mean(acc)))"
   ]
  },
  {
   "cell_type": "markdown",
   "id": "ff34bad6",
   "metadata": {},
   "source": [
    "bayes"
   ]
  },
  {
   "cell_type": "code",
   "execution_count": 88,
   "id": "94a1e043",
   "metadata": {},
   "outputs": [
    {
     "name": "stdout",
     "output_type": "stream",
     "text": [
      "Fold: 10, mean accuracy: 0.942\n"
     ]
    }
   ],
   "source": [
    "acc = cross_val_score(clf_nb, X, y, cv = 10)\n",
    "print('Fold: %i, mean accuracy: %.3f' % (len(acc), np.mean(acc)))"
   ]
  },
  {
   "cell_type": "markdown",
   "id": "d5aef93e",
   "metadata": {},
   "source": [
    "## K近邻"
   ]
  },
  {
   "cell_type": "code",
   "execution_count": null,
   "id": "aceb395e",
   "metadata": {},
   "outputs": [],
   "source": []
  }
 ],
 "metadata": {
  "kernelspec": {
   "display_name": "Python 3",
   "language": "python",
   "name": "python3"
  },
  "language_info": {
   "codemirror_mode": {
    "name": "ipython",
    "version": 3
   },
   "file_extension": ".py",
   "mimetype": "text/x-python",
   "name": "python",
   "nbconvert_exporter": "python",
   "pygments_lexer": "ipython3",
   "version": "3.8.8"
  }
 },
 "nbformat": 4,
 "nbformat_minor": 5
}
